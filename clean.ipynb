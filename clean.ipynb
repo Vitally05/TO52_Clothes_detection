{
 "cells": [
  {
   "cell_type": "code",
   "id": "initial_id",
   "metadata": {
    "ExecuteTime": {
     "end_time": "2024-06-11T12:18:44.205051Z",
     "start_time": "2024-06-11T12:18:44.198257Z"
    }
   },
   "source": [
    "import os\n",
    "import shutil"
   ],
   "outputs": [],
   "execution_count": 15
  },
  {
   "cell_type": "code",
   "id": "3d14d72d-ecae-430e-ad51-3f5155bed2c0",
   "metadata": {
    "ExecuteTime": {
     "end_time": "2024-06-11T12:18:44.208262Z",
     "start_time": "2024-06-11T12:18:44.205051Z"
    }
   },
   "source": [
    "current_path = os.getcwd()"
   ],
   "outputs": [],
   "execution_count": 16
  },
  {
   "cell_type": "code",
   "id": "7aefeb9c90611fd",
   "metadata": {
    "collapsed": false,
    "ExecuteTime": {
     "end_time": "2024-06-11T12:18:44.210640Z",
     "start_time": "2024-06-11T12:18:44.208262Z"
    }
   },
   "source": [
    "run_path = current_path + '\\\\runs\\\\detect\\\\predict'\n",
    "prepare_data_path = current_path + '\\\\otherdata'\n",
    "prepare_data_path2 = current_path + '\\\\data\\\\cropped'"
   ],
   "outputs": [],
   "execution_count": 17
  },
  {
   "cell_type": "code",
   "id": "f25a9373e0103c9c",
   "metadata": {
    "collapsed": false,
    "ExecuteTime": {
     "end_time": "2024-06-11T12:18:44.213536Z",
     "start_time": "2024-06-11T12:18:44.210640Z"
    }
   },
   "source": [
    "def delete_folder(folder_path):\n",
    "    if os.path.exists(folder_path):\n",
    "        shutil.rmtree(folder_path)\n",
    "        print(f\"The folder {folder_path} has been deleted.\")\n",
    "    else:\n",
    "        print(f\"The folder {folder_path} does not exist.\")"
   ],
   "outputs": [],
   "execution_count": 18
  },
  {
   "cell_type": "code",
   "source": "#delete_folder(run_path)",
   "metadata": {
    "collapsed": false,
    "ExecuteTime": {
     "end_time": "2024-06-11T12:18:44.216529Z",
     "start_time": "2024-06-11T12:18:44.213536Z"
    }
   },
   "id": "57888069be98a5b8",
   "outputs": [],
   "execution_count": 19
  },
  {
   "cell_type": "code",
   "source": "delete_folder(prepare_data_path)",
   "metadata": {
    "collapsed": false,
    "ExecuteTime": {
     "end_time": "2024-06-11T12:22:27.207133Z",
     "start_time": "2024-06-11T12:22:27.036806Z"
    }
   },
   "id": "dbf929d21e6ae682",
   "outputs": [
    {
     "name": "stdout",
     "output_type": "stream",
     "text": [
      "The folder C:\\Users\\elise\\Documents\\GitHub\\TO52_Clothes_detection2\\otherdata has been deleted.\n"
     ]
    }
   ],
   "execution_count": 22
  },
  {
   "metadata": {
    "ExecuteTime": {
     "end_time": "2024-06-11T12:19:28.732766Z",
     "start_time": "2024-06-11T12:19:28.729527Z"
    }
   },
   "cell_type": "code",
   "source": "#delete_folder(prepare_data_path2)",
   "id": "ac9b2a7dab6b4e6",
   "outputs": [],
   "execution_count": 21
  }
 ],
 "metadata": {
  "kernelspec": {
   "display_name": "Python 3 (ipykernel)",
   "language": "python",
   "name": "python3"
  },
  "language_info": {
   "codemirror_mode": {
    "name": "ipython",
    "version": 3
   },
   "file_extension": ".py",
   "mimetype": "text/x-python",
   "name": "python",
   "nbconvert_exporter": "python",
   "pygments_lexer": "ipython3",
   "version": "3.12.2"
  }
 },
 "nbformat": 4,
 "nbformat_minor": 5
}
