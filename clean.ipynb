{
 "cells": [
  {
   "cell_type": "code",
   "id": "initial_id",
   "metadata": {
    "ExecuteTime": {
     "end_time": "2024-05-27T13:53:37.096651Z",
     "start_time": "2024-05-27T13:53:37.087553Z"
    }
   },
   "source": [
    "import os\n",
    "import shutil"
   ],
   "outputs": [],
   "execution_count": 1
  },
  {
   "cell_type": "code",
   "id": "3d14d72d-ecae-430e-ad51-3f5155bed2c0",
   "metadata": {
    "ExecuteTime": {
     "end_time": "2024-05-27T13:53:37.099714Z",
     "start_time": "2024-05-27T13:53:37.096651Z"
    }
   },
   "source": [
    "current_path = os.getcwd()"
   ],
   "outputs": [],
   "execution_count": 2
  },
  {
   "cell_type": "code",
   "id": "7aefeb9c90611fd",
   "metadata": {
    "collapsed": false,
    "ExecuteTime": {
     "end_time": "2024-05-27T13:53:37.102318Z",
     "start_time": "2024-05-27T13:53:37.099714Z"
    }
   },
   "source": [
    "run_path = current_path + '\\\\runs\\\\detect\\\\predict'\n",
    "prepare_data_path = current_path + '\\\\otherdata2'"
   ],
   "outputs": [],
   "execution_count": 3
  },
  {
   "cell_type": "code",
   "id": "f25a9373e0103c9c",
   "metadata": {
    "collapsed": false,
    "ExecuteTime": {
     "end_time": "2024-05-27T13:53:37.106082Z",
     "start_time": "2024-05-27T13:53:37.102318Z"
    }
   },
   "source": [
    "def delete_folder(folder_path):\n",
    "    if os.path.exists(folder_path):\n",
    "        shutil.rmtree(folder_path)\n",
    "        print(f\"The folder {folder_path} has been deleted.\")\n",
    "    else:\n",
    "        print(f\"The folder {folder_path} does not exist.\")"
   ],
   "outputs": [],
   "execution_count": 4
  },
  {
   "cell_type": "code",
   "source": "#delete_folder(run_path)",
   "metadata": {
    "collapsed": false,
    "ExecuteTime": {
     "end_time": "2024-05-27T13:53:37.109017Z",
     "start_time": "2024-05-27T13:53:37.106082Z"
    }
   },
   "id": "57888069be98a5b8",
   "outputs": [],
   "execution_count": 5
  },
  {
   "cell_type": "code",
   "source": [
    "delete_folder(prepare_data_path)"
   ],
   "metadata": {
    "collapsed": false,
    "ExecuteTime": {
     "end_time": "2024-05-27T13:53:37.694370Z",
     "start_time": "2024-05-27T13:53:37.109017Z"
    }
   },
   "id": "dbf929d21e6ae682",
   "outputs": [
    {
     "name": "stdout",
     "output_type": "stream",
     "text": [
      "The folder C:\\Users\\elise\\Documents\\GitHub\\TO52_Clothes_detection2\\otherdata2 has been deleted.\n"
     ]
    }
   ],
   "execution_count": 6
  },
  {
   "metadata": {
    "ExecuteTime": {
     "end_time": "2024-05-27T13:53:37.696748Z",
     "start_time": "2024-05-27T13:53:37.694370Z"
    }
   },
   "cell_type": "code",
   "source": "",
   "id": "ac9b2a7dab6b4e6",
   "outputs": [],
   "execution_count": 6
  }
 ],
 "metadata": {
  "kernelspec": {
   "display_name": "Python 3 (ipykernel)",
   "language": "python",
   "name": "python3"
  },
  "language_info": {
   "codemirror_mode": {
    "name": "ipython",
    "version": 3
   },
   "file_extension": ".py",
   "mimetype": "text/x-python",
   "name": "python",
   "nbconvert_exporter": "python",
   "pygments_lexer": "ipython3",
   "version": "3.12.2"
  }
 },
 "nbformat": 4,
 "nbformat_minor": 5
}
