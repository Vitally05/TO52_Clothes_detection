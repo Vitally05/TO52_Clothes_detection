{
 "cells": [
  {
   "cell_type": "code",
   "execution_count": 1,
   "id": "initial_id",
   "metadata": {
    "ExecuteTime": {
     "end_time": "2024-04-22T12:25:07.396062Z",
     "start_time": "2024-04-22T12:25:07.391516Z"
    }
   },
   "outputs": [],
   "source": [
    "import os\n",
    "import shutil"
   ]
  },
  {
   "cell_type": "code",
   "execution_count": 2,
   "id": "3d14d72d-ecae-430e-ad51-3f5155bed2c0",
   "metadata": {
    "ExecuteTime": {
     "end_time": "2024-04-22T12:25:08.117924Z",
     "start_time": "2024-04-22T12:25:08.114572Z"
    }
   },
   "outputs": [],
   "source": [
    "current_path = os.getcwd()"
   ]
  },
  {
   "cell_type": "code",
   "execution_count": 3,
   "id": "7aefeb9c90611fd",
   "metadata": {
    "collapsed": false,
    "ExecuteTime": {
     "end_time": "2024-04-22T12:25:08.867658Z",
     "start_time": "2024-04-22T12:25:08.864424Z"
    }
   },
   "outputs": [],
   "source": [
    "run_path = current_path + '\\\\runs\\\\detect'\n",
    "prepare_data_path = current_path + '\\\\otherdata'"
   ]
  },
  {
   "cell_type": "code",
   "execution_count": 4,
   "id": "f25a9373e0103c9c",
   "metadata": {
    "collapsed": false,
    "ExecuteTime": {
     "end_time": "2024-04-22T12:25:09.613467Z",
     "start_time": "2024-04-22T12:25:09.609318Z"
    }
   },
   "outputs": [],
   "source": [
    "def delete_folder(folder_path):\n",
    "    if os.path.exists(folder_path):\n",
    "        shutil.rmtree(folder_path)\n",
    "        print(f\"The folder {folder_path} has been deleted.\")\n",
    "    else:\n",
    "        print(f\"The folder {folder_path} does not exist.\")"
   ]
  },
  {
   "cell_type": "code",
   "outputs": [
    {
     "name": "stdout",
     "output_type": "stream",
     "text": [
      "The folder C:\\Users\\elise\\Documents\\1 UTBM\\INFO 4 - DS\\TO52\\runs\\detect\\predict has been deleted.\n"
     ]
    }
   ],
   "source": [
    "delete_folder(run_path)"
   ],
   "metadata": {
    "collapsed": false,
    "ExecuteTime": {
     "end_time": "2024-04-20T11:37:57.567350Z",
     "start_time": "2024-04-20T11:37:57.563496Z"
    }
   },
   "id": "57888069be98a5b8",
   "execution_count": 17
  },
  {
   "cell_type": "code",
   "outputs": [
    {
     "name": "stdout",
     "output_type": "stream",
     "text": [
      "The folder C:\\Users\\elise\\Documents\\1 UTBM\\INFO 4 - DS\\TO52\\otherdata has been deleted.\n"
     ]
    }
   ],
   "source": [
    "delete_folder(prepare_data_path)"
   ],
   "metadata": {
    "collapsed": false,
    "ExecuteTime": {
     "end_time": "2024-04-22T12:25:27.713325Z",
     "start_time": "2024-04-22T12:25:21.161964Z"
    }
   },
   "id": "dbf929d21e6ae682",
   "execution_count": 5
  },
  {
   "cell_type": "code",
   "outputs": [],
   "source": [],
   "metadata": {
    "collapsed": false
   },
   "id": "86480434ac3f2120"
  }
 ],
 "metadata": {
  "kernelspec": {
   "display_name": "Python 3 (ipykernel)",
   "language": "python",
   "name": "python3"
  },
  "language_info": {
   "codemirror_mode": {
    "name": "ipython",
    "version": 3
   },
   "file_extension": ".py",
   "mimetype": "text/x-python",
   "name": "python",
   "nbconvert_exporter": "python",
   "pygments_lexer": "ipython3",
   "version": "3.12.2"
  }
 },
 "nbformat": 4,
 "nbformat_minor": 5
}
