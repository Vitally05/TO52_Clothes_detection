{
 "cells": [
  {
   "metadata": {
    "ExecuteTime": {
     "end_time": "2024-06-05T07:11:47.542482Z",
     "start_time": "2024-06-05T07:11:47.533859Z"
    }
   },
   "cell_type": "code",
   "source": [
    "import mysql.connector\n",
    "import pandas as pd"
   ],
   "id": "d0e25a2f2c1c6d5c",
   "outputs": [],
   "execution_count": 38
  },
  {
   "metadata": {
    "ExecuteTime": {
     "end_time": "2024-06-05T07:11:47.549967Z",
     "start_time": "2024-06-05T07:11:47.542482Z"
    }
   },
   "cell_type": "code",
   "source": [
    "cnx = mysql.connector.connect(user='root', password='TO52',\n",
    "                              host='localhost',\n",
    "                              database='clothes_detection')"
   ],
   "id": "cc0505450353b291",
   "outputs": [],
   "execution_count": 39
  },
  {
   "metadata": {
    "ExecuteTime": {
     "end_time": "2024-06-05T07:11:47.554150Z",
     "start_time": "2024-06-05T07:11:47.549967Z"
    }
   },
   "cell_type": "code",
   "source": [
    "def construct_query(cat, brand, size):\n",
    "    query = \"SELECT absolute_path FROM clothes NATURAL JOIN category \"\n",
    "    where_category = f\"WHERE category = '{cat}' \"\n",
    "    where_brand = \"\"\n",
    "    where_size = \"\"\n",
    "    first = True\n",
    "    \n",
    "    if brand != 'all':\n",
    "        query = query + \"NATURAL JOIN brand \"\n",
    "        for bd in brand:\n",
    "            if first:\n",
    "                where_brand = f\"AND (brand = '{bd}' \"\n",
    "                first = False\n",
    "            else:\n",
    "                where_brand = where_brand + f\"OR brand = '{bd}' \"\n",
    "        if len(brand) > 0:\n",
    "            where_brand = where_brand + \") \"\n",
    "\n",
    "    first = True\n",
    "    if size != 'all':\n",
    "        query = query + \"NATURAL JOIN size \"\n",
    "        for sz in size:\n",
    "            if first:\n",
    "                where_size = f\"AND (size = '{sz}' \"\n",
    "                first = False\n",
    "            else:\n",
    "                where_size = where_size + f\"OR size = '{sz}' \"\n",
    "        if len(size) > 0:\n",
    "            where_size = where_size + \") \"\n",
    "    \n",
    "    query = query + where_category + where_brand + where_size + \"LIMIT 10\"\n",
    "    \n",
    "    return query"
   ],
   "id": "753a0f9b1e1c299a",
   "outputs": [],
   "execution_count": 40
  },
  {
   "metadata": {
    "ExecuteTime": {
     "end_time": "2024-06-05T07:11:47.557047Z",
     "start_time": "2024-06-05T07:11:47.554150Z"
    }
   },
   "cell_type": "code",
   "source": [
    "brand = ['Zara','H&M']\n",
    "query = construct_query('Tee', brand ,['XS'])\n",
    "print(query)"
   ],
   "id": "8caf65ccaba1d2f8",
   "outputs": [
    {
     "name": "stdout",
     "output_type": "stream",
     "text": [
      "SELECT absolute_path FROM clothes NATURAL JOIN category NATURAL JOIN brand NATURAL JOIN size WHERE category = 'Tee' AND (brand = 'Zara' OR brand = 'H&M' ) AND (size = 'XS' ) LIMIT 10\n"
     ]
    }
   ],
   "execution_count": 41
  },
  {
   "metadata": {
    "ExecuteTime": {
     "end_time": "2024-06-05T07:11:47.656634Z",
     "start_time": "2024-06-05T07:11:47.557047Z"
    }
   },
   "cell_type": "code",
   "source": [
    "cursor = cnx.cursor()\n",
    "\n",
    "cat = 'Dress'\n",
    "brand = ['Zara']\n",
    "size = ['M','L']\n",
    "\n",
    "query = construct_query(cat, brand, size)\n",
    "print(query)\n",
    "\n",
    "cursor.execute(query)\n",
    "\n",
    "df = pd.DataFrame(cursor.fetchall())\n",
    "df.columns = cursor.column_names\n",
    "\n",
    "print(df)\n"
   ],
   "id": "dfc21ce30ccdb3a0",
   "outputs": [
    {
     "name": "stdout",
     "output_type": "stream",
     "text": [
      "SELECT absolute_path FROM clothes NATURAL JOIN category NATURAL JOIN brand NATURAL JOIN size WHERE category = 'Dress' AND (brand = 'Zara' ) AND (size = 'M' OR size = 'L' ) LIMIT 10\n",
      "                                     absolute_path\n",
      "0   img/Lace_Insert_Bodycon_Dress/img_00000048.jpg\n",
      "1   img/Lace_Insert_Bodycon_Dress/img_00000029.jpg\n",
      "2           img/Lace_Halter_Dress/img_00000036.jpg\n",
      "3           img/Lace_Halter_Dress/img_00000003.jpg\n",
      "4      img/Lace_Fit_&_Flare_Dress/img_00000036.jpg\n",
      "5      img/Lace_Fit_&_Flare_Dress/img_00000011.jpg\n",
      "6      img/Lace_Fit_&_Flare_Dress/img_00000001.jpg\n",
      "7  img/Lace_Crisscross-Back_Dress/img_00000047.jpg\n",
      "8     img/Lace_Collar_Shift_Dress/img_00000070.jpg\n",
      "9     img/Lace_Collar_Shift_Dress/img_00000025.jpg\n"
     ]
    }
   ],
   "execution_count": 42
  },
  {
   "metadata": {
    "ExecuteTime": {
     "end_time": "2024-06-05T07:11:47.662246Z",
     "start_time": "2024-06-05T07:11:47.656634Z"
    }
   },
   "cell_type": "code",
   "source": "cnx.close()",
   "id": "5e96e583812c1aa",
   "outputs": [],
   "execution_count": 43
  }
 ],
 "metadata": {
  "kernelspec": {
   "display_name": "Python 3",
   "language": "python",
   "name": "python3"
  },
  "language_info": {
   "codemirror_mode": {
    "name": "ipython",
    "version": 2
   },
   "file_extension": ".py",
   "mimetype": "text/x-python",
   "name": "python",
   "nbconvert_exporter": "python",
   "pygments_lexer": "ipython2",
   "version": "2.7.6"
  }
 },
 "nbformat": 4,
 "nbformat_minor": 5
}
