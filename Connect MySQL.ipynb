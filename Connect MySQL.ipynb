{
 "cells": [
  {
   "metadata": {
    "ExecuteTime": {
     "end_time": "2024-06-11T09:13:36.272445Z",
     "start_time": "2024-06-11T09:13:36.270265Z"
    }
   },
   "cell_type": "code",
   "source": [
    "import mysql.connector\n",
    "import pandas as pd"
   ],
   "id": "d0e25a2f2c1c6d5c",
   "outputs": [],
   "execution_count": 76
  },
  {
   "metadata": {
    "ExecuteTime": {
     "end_time": "2024-06-11T09:13:36.282188Z",
     "start_time": "2024-06-11T09:13:36.272445Z"
    }
   },
   "cell_type": "code",
   "source": [
    "cnx = mysql.connector.connect(user='root', password='TO52',\n",
    "                              host='localhost',\n",
    "                              database='clothes_detection')"
   ],
   "id": "cc0505450353b291",
   "outputs": [],
   "execution_count": 77
  },
  {
   "metadata": {
    "ExecuteTime": {
     "end_time": "2024-06-11T09:13:36.286519Z",
     "start_time": "2024-06-11T09:13:36.282188Z"
    }
   },
   "cell_type": "code",
   "source": [
    "def construct_query(cat, brand, size):\n",
    "    query = \"SELECT absolute_path FROM clothes NATURAL JOIN category \"\n",
    "    where_category = f\"WHERE category = '{cat}' \"\n",
    "    where_brand = \"\"\n",
    "    where_size = \"\"\n",
    "    first = True\n",
    "    \n",
    "    if brand != 'all':\n",
    "        query = query + \"NATURAL JOIN brand \"\n",
    "        for bd in brand:\n",
    "            if first:\n",
    "                where_brand = f\"AND (brand = '{bd}' \"\n",
    "                first = False\n",
    "            else:\n",
    "                where_brand = where_brand + f\"OR brand = '{bd}' \"\n",
    "        if len(brand) > 0:\n",
    "            where_brand = where_brand + \") \"\n",
    "\n",
    "    first = True\n",
    "    if size != 'all':\n",
    "        query = query + \"NATURAL JOIN size \"\n",
    "        for sz in size:\n",
    "            if first:\n",
    "                where_size = f\"AND (size = '{sz}' \"\n",
    "                first = False\n",
    "            else:\n",
    "                where_size = where_size + f\"OR size = '{sz}' \"\n",
    "        if len(size) > 0:\n",
    "            where_size = where_size + \") \"\n",
    "    \n",
    "    query = query + where_category + where_brand + where_size + \"LIMIT 10\"\n",
    "    \n",
    "    return query"
   ],
   "id": "753a0f9b1e1c299a",
   "outputs": [],
   "execution_count": 78
  },
  {
   "metadata": {
    "ExecuteTime": {
     "end_time": "2024-06-11T09:13:36.289988Z",
     "start_time": "2024-06-11T09:13:36.286519Z"
    }
   },
   "cell_type": "code",
   "source": [
    "def get_sizes_bdd():\n",
    "    cursor = cnx.cursor()\n",
    "    cursor.execute(\"SELECT DISTINCT size FROM size\")\n",
    "    sizes = cursor.fetchall()\n",
    "    sizes = [size[0] for size in sizes]\n",
    "    return sizes"
   ],
   "id": "8f98413e98115143",
   "outputs": [],
   "execution_count": 79
  },
  {
   "metadata": {
    "ExecuteTime": {
     "end_time": "2024-06-11T09:13:36.294494Z",
     "start_time": "2024-06-11T09:13:36.289988Z"
    }
   },
   "cell_type": "code",
   "source": [
    "sizes = get_sizes_bdd()\n",
    "print(sizes)"
   ],
   "id": "35936c534ab18611",
   "outputs": [
    {
     "name": "stdout",
     "output_type": "stream",
     "text": [
      "['XXS', 'XS', 'S', 'M', 'L', 'XL', 'XXL']\n"
     ]
    }
   ],
   "execution_count": 80
  },
  {
   "metadata": {
    "ExecuteTime": {
     "end_time": "2024-06-11T09:13:36.297864Z",
     "start_time": "2024-06-11T09:13:36.294494Z"
    }
   },
   "cell_type": "code",
   "source": [
    "def get_images_bdd(cat, brand, size):\n",
    "    cursor = cnx.cursor()\n",
    "    query = construct_query(cat, brand, size)\n",
    "    print(query)\n",
    "    cursor.execute(query)\n",
    "    paths = cursor.fetchall()\n",
    "    paths = [path[0] for path in paths]\n",
    "    return paths"
   ],
   "id": "2f236e6c62f20d0",
   "outputs": [],
   "execution_count": 81
  },
  {
   "metadata": {
    "ExecuteTime": {
     "end_time": "2024-06-11T09:13:36.324508Z",
     "start_time": "2024-06-11T09:13:36.297864Z"
    }
   },
   "cell_type": "code",
   "source": [
    "paths = get_images_bdd('Tee', ['Zara','H&M'], ['XS'])\n",
    "print(paths)"
   ],
   "id": "4b2d4c77afd9a9b3",
   "outputs": [
    {
     "name": "stdout",
     "output_type": "stream",
     "text": [
      "SELECT absolute_path FROM clothes NATURAL JOIN category NATURAL JOIN brand NATURAL JOIN size WHERE category = 'Tee' AND (brand = 'Zara' OR brand = 'H&M' ) AND (size = 'XS' ) LIMIT 10\n",
      "['img/Heathered_Muscle_Tee/img_00000008.jpg', 'img/Heathered_Mesh-Paneled_Colorblock_Tee/img_00000020.jpg', 'img/Heathered_Knit_Tee/img_00000025.jpg', 'img/Heathered_Frida_Kahlo_Tee/img_00000030.jpg', 'img/Heathered_Crew_Neck_Tee/img_00000061.jpg', 'img/Heathered_Crew_Neck_Tee/img_00000023.jpg', 'img/Heathered_Crew_Neck_Tee/img_00000019.jpg', 'img/Heathered_Colorblock_Raglan_Tee/img_00000027.jpg', 'img/Heathered_Colorblock_Raglan_Tee/img_00000012.jpg', 'img/Baseball_Muscle_Tee/img_00000023.jpg']\n"
     ]
    }
   ],
   "execution_count": 82
  },
  {
   "metadata": {
    "ExecuteTime": {
     "end_time": "2024-06-11T09:13:36.327969Z",
     "start_time": "2024-06-11T09:13:36.325521Z"
    }
   },
   "cell_type": "code",
   "source": [
    "def get_category_bdd(cat):\n",
    "    cursor = cnx.cursor()\n",
    "    cursor.execute(\"SELECT category FROM category WHERE id_category = \" + str(cat))\n",
    "    category = cursor.fetchall()\n",
    "    return category[0][0]"
   ],
   "id": "32cf44ca20dbed0f",
   "outputs": [],
   "execution_count": 83
  },
  {
   "metadata": {
    "ExecuteTime": {
     "end_time": "2024-06-11T09:13:36.332668Z",
     "start_time": "2024-06-11T09:13:36.327969Z"
    }
   },
   "cell_type": "code",
   "source": [
    "cat = get_category_bdd(2)\n",
    "cat"
   ],
   "id": "e11fddcf4e0259c8",
   "outputs": [
    {
     "data": {
      "text/plain": [
       "'Blouse'"
      ]
     },
     "execution_count": 84,
     "metadata": {},
     "output_type": "execute_result"
    }
   ],
   "execution_count": 84
  },
  {
   "metadata": {
    "ExecuteTime": {
     "end_time": "2024-06-11T09:13:36.360770Z",
     "start_time": "2024-06-11T09:13:36.332668Z"
    }
   },
   "cell_type": "code",
   "source": [
    "cursor = cnx.cursor()\n",
    "brand = ['Zara','H&M']\n",
    "query = construct_query('Tee', brand ,['XS'])\n",
    "print(query)\n",
    "\n",
    "cursor.execute(query)\n",
    "\n",
    "df = pd.DataFrame(cursor.fetchall())\n",
    "df.columns = cursor.column_names\n",
    "\n",
    "print(df)"
   ],
   "id": "8caf65ccaba1d2f8",
   "outputs": [
    {
     "name": "stdout",
     "output_type": "stream",
     "text": [
      "SELECT absolute_path FROM clothes NATURAL JOIN category NATURAL JOIN brand NATURAL JOIN size WHERE category = 'Tee' AND (brand = 'Zara' OR brand = 'H&M' ) AND (size = 'XS' ) LIMIT 10\n",
      "                                       absolute_path\n",
      "0          img/Heathered_Muscle_Tee/img_00000008.jpg\n",
      "1  img/Heathered_Mesh-Paneled_Colorblock_Tee/img_...\n",
      "2            img/Heathered_Knit_Tee/img_00000025.jpg\n",
      "3     img/Heathered_Frida_Kahlo_Tee/img_00000030.jpg\n",
      "4       img/Heathered_Crew_Neck_Tee/img_00000061.jpg\n",
      "5       img/Heathered_Crew_Neck_Tee/img_00000023.jpg\n",
      "6       img/Heathered_Crew_Neck_Tee/img_00000019.jpg\n",
      "7  img/Heathered_Colorblock_Raglan_Tee/img_000000...\n",
      "8  img/Heathered_Colorblock_Raglan_Tee/img_000000...\n",
      "9           img/Baseball_Muscle_Tee/img_00000023.jpg\n"
     ]
    }
   ],
   "execution_count": 85
  },
  {
   "metadata": {
    "ExecuteTime": {
     "end_time": "2024-06-11T09:13:36.534527Z",
     "start_time": "2024-06-11T09:13:36.360770Z"
    }
   },
   "cell_type": "code",
   "source": [
    "cursor = cnx.cursor()\n",
    "\n",
    "cat = 'Dress'\n",
    "brand = ['Zara']\n",
    "size = ['M','L']\n",
    "\n",
    "query = construct_query(cat, brand, size)\n",
    "print(query)\n",
    "\n",
    "cursor.execute(query)\n",
    "\n",
    "df = pd.DataFrame(cursor.fetchall())\n",
    "df.columns = cursor.column_names\n",
    "\n",
    "print(df)\n"
   ],
   "id": "dfc21ce30ccdb3a0",
   "outputs": [
    {
     "name": "stdout",
     "output_type": "stream",
     "text": [
      "SELECT absolute_path FROM clothes NATURAL JOIN category NATURAL JOIN brand NATURAL JOIN size WHERE category = 'Dress' AND (brand = 'Zara' ) AND (size = 'M' OR size = 'L' ) LIMIT 10\n",
      "                                     absolute_path\n",
      "0   img/Lace_Insert_Bodycon_Dress/img_00000048.jpg\n",
      "1   img/Lace_Insert_Bodycon_Dress/img_00000029.jpg\n",
      "2           img/Lace_Halter_Dress/img_00000036.jpg\n",
      "3           img/Lace_Halter_Dress/img_00000003.jpg\n",
      "4      img/Lace_Fit_&_Flare_Dress/img_00000036.jpg\n",
      "5      img/Lace_Fit_&_Flare_Dress/img_00000011.jpg\n",
      "6      img/Lace_Fit_&_Flare_Dress/img_00000001.jpg\n",
      "7  img/Lace_Crisscross-Back_Dress/img_00000047.jpg\n",
      "8     img/Lace_Collar_Shift_Dress/img_00000070.jpg\n",
      "9     img/Lace_Collar_Shift_Dress/img_00000025.jpg\n"
     ]
    }
   ],
   "execution_count": 86
  },
  {
   "metadata": {
    "ExecuteTime": {
     "end_time": "2024-06-11T09:13:36.539318Z",
     "start_time": "2024-06-11T09:13:36.534527Z"
    }
   },
   "cell_type": "code",
   "source": "cnx.close()",
   "id": "5e96e583812c1aa",
   "outputs": [],
   "execution_count": 87
  }
 ],
 "metadata": {
  "kernelspec": {
   "display_name": "Python 3",
   "language": "python",
   "name": "python3"
  },
  "language_info": {
   "codemirror_mode": {
    "name": "ipython",
    "version": 2
   },
   "file_extension": ".py",
   "mimetype": "text/x-python",
   "name": "python",
   "nbconvert_exporter": "python",
   "pygments_lexer": "ipython2",
   "version": "2.7.6"
  }
 },
 "nbformat": 4,
 "nbformat_minor": 5
}
