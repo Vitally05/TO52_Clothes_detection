{
 "cells": [
  {
   "cell_type": "code",
   "execution_count": 1,
   "id": "initial_id",
   "metadata": {
    "ExecuteTime": {
     "end_time": "2024-03-25T14:45:50.031333Z",
     "start_time": "2024-03-25T14:45:50.027997Z"
    }
   },
   "outputs": [],
   "source": [
    "import os\n",
    "import shutil"
   ]
  },
  {
   "cell_type": "code",
   "execution_count": 2,
   "id": "3d14d72d-ecae-430e-ad51-3f5155bed2c0",
   "metadata": {
    "ExecuteTime": {
     "end_time": "2024-03-25T14:45:50.034529Z",
     "start_time": "2024-03-25T14:45:50.032490Z"
    }
   },
   "outputs": [],
   "source": [
    "current_path = os.getcwd()"
   ]
  },
  {
   "cell_type": "code",
   "execution_count": 3,
   "id": "7aefeb9c90611fd",
   "metadata": {
    "ExecuteTime": {
     "end_time": "2024-03-25T14:45:50.037484Z",
     "start_time": "2024-03-25T14:45:50.035569Z"
    },
    "collapsed": false,
    "jupyter": {
     "outputs_hidden": false
    }
   },
   "outputs": [],
   "source": [
    "folder_path = current_path + '\\\\runs\\\\detect'"
   ]
  },
  {
   "cell_type": "code",
   "execution_count": 4,
   "id": "f25a9373e0103c9c",
   "metadata": {
    "ExecuteTime": {
     "end_time": "2024-03-25T14:45:50.042161Z",
     "start_time": "2024-03-25T14:45:50.038491Z"
    },
    "collapsed": false,
    "jupyter": {
     "outputs_hidden": false
    }
   },
   "outputs": [
    {
     "name": "stdout",
     "output_type": "stream",
     "text": [
      "The folder C:\\Users\\elise\\Documents\\1 UTBM\\INFO 4 - DS\\TO52\\runs\\detect has been deleted.\n"
     ]
    }
   ],
   "source": [
    "if os.path.exists(folder_path):\n",
    "    shutil.rmtree(folder_path)\n",
    "    print(f\"The folder {folder_path} has been deleted.\")\n",
    "else:\n",
    "    print(f\"The folder {folder_path} does not exist.\")"
   ]
  }
 ],
 "metadata": {
  "kernelspec": {
   "display_name": "Python 3 (ipykernel)",
   "language": "python",
   "name": "python3"
  },
  "language_info": {
   "codemirror_mode": {
    "name": "ipython",
    "version": 3
   },
   "file_extension": ".py",
   "mimetype": "text/x-python",
   "name": "python",
   "nbconvert_exporter": "python",
   "pygments_lexer": "ipython3",
   "version": "3.12.2"
  }
 },
 "nbformat": 4,
 "nbformat_minor": 5
}
