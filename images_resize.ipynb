{
 "cells": [
  {
   "cell_type": "code",
   "id": "initial_id",
   "metadata": {
    "collapsed": true,
    "ExecuteTime": {
     "end_time": "2024-06-11T11:13:02.886617Z",
     "start_time": "2024-06-11T11:13:02.541357Z"
    }
   },
   "source": [
    "import os\n",
    "from PIL import Image\n",
    "import pandas as pd\n",
    "import numpy as np"
   ],
   "outputs": [],
   "execution_count": 1
  },
  {
   "metadata": {
    "ExecuteTime": {
     "end_time": "2024-06-11T11:13:02.892748Z",
     "start_time": "2024-06-11T11:13:02.887643Z"
    }
   },
   "cell_type": "code",
   "source": [
    "def creer_fichier(chemin_fichier):\n",
    "    '''Créer les dossier et fichiers nécessaires pour le fichier txt ou les images\n",
    "    chemin_fichier : str'''\n",
    "\n",
    "    dossier = os.path.dirname(chemin_fichier)\n",
    "    if not os.path.exists(dossier):\n",
    "        os.makedirs(dossier)"
   ],
   "id": "e1d814155285567c",
   "outputs": [],
   "execution_count": 2
  },
  {
   "metadata": {
    "ExecuteTime": {
     "end_time": "2024-06-11T11:13:02.900079Z",
     "start_time": "2024-06-11T11:13:02.893764Z"
    }
   },
   "cell_type": "code",
   "source": [
    "def find_path(row):\n",
    "    \n",
    "    chemin = row.image_name.replace('img/', '')\n",
    "    #chemin = chemin.replace('/', '_')\n",
    "\n",
    "    chemin_img_arrivee = 'otherdata2/' + chemin\n",
    "    creer_fichier(chemin_img_arrivee)\n",
    "    \n",
    "    return chemin_img_arrivee"
   ],
   "id": "de23100b8ca47e6",
   "outputs": [],
   "execution_count": 3
  },
  {
   "metadata": {
    "ExecuteTime": {
     "end_time": "2024-06-11T11:13:02.907028Z",
     "start_time": "2024-06-11T11:13:02.900586Z"
    }
   },
   "cell_type": "code",
   "source": [
    "def find_category(df, category_name):\n",
    "    '''Trouver la catégorie de vêtement dans le DataFrame\n",
    "    df : DataFrame des catégories\n",
    "    category_name : str\n",
    "    return : int'''\n",
    "    \n",
    "    return df[df['image_name'].str.contains(category_name)]"
   ],
   "id": "32c1768d3805f96d",
   "outputs": [],
   "execution_count": 4
  },
  {
   "metadata": {
    "ExecuteTime": {
     "end_time": "2024-06-11T11:13:02.913062Z",
     "start_time": "2024-06-11T11:13:02.907028Z"
    }
   },
   "cell_type": "code",
   "source": [
    "def truncate_images(df):\n",
    "    for row in df.itertuples():\n",
    "        chemin_depart = 'data/' + row.image_name\n",
    "        chemin_arrivee = find_path(row)\n",
    "        im = np.array(Image.open(chemin_depart))\n",
    "        im_trim1 = im[row.y_1:row.y_2, row.x_1:row.x_2]\n",
    "        Image.fromarray(im_trim1).save(chemin_arrivee)"
   ],
   "id": "5a1cae0bc9cee8f7",
   "outputs": [],
   "execution_count": 5
  },
  {
   "metadata": {
    "ExecuteTime": {
     "end_time": "2024-06-11T11:13:03.872207Z",
     "start_time": "2024-06-11T11:13:02.913848Z"
    }
   },
   "cell_type": "code",
   "source": [
    "images = pd.read_csv('labels/Anno_coarse/list_bbox.txt', delim_whitespace=True, header=1)\n",
    "images.head()"
   ],
   "id": "9f86067b73238427",
   "outputs": [
    {
     "name": "stderr",
     "output_type": "stream",
     "text": [
      "C:\\Users\\elise\\AppData\\Local\\Temp\\ipykernel_23640\\4195364325.py:1: FutureWarning: The 'delim_whitespace' keyword in pd.read_csv is deprecated and will be removed in a future version. Use ``sep='\\s+'`` instead\n",
      "  images = pd.read_csv('labels/Anno_coarse/list_bbox.txt', delim_whitespace=True, header=1)\n"
     ]
    },
    {
     "data": {
      "text/plain": [
       "                                        image_name  x_1  y_1  x_2  y_2\n",
       "0  img/Sheer_Pleated-Front_Blouse/img_00000001.jpg   72   79  232  273\n",
       "1  img/Sheer_Pleated-Front_Blouse/img_00000002.jpg   67   59  155  161\n",
       "2  img/Sheer_Pleated-Front_Blouse/img_00000003.jpg   65   65  156  200\n",
       "3  img/Sheer_Pleated-Front_Blouse/img_00000004.jpg   51   62  167  182\n",
       "4  img/Sheer_Pleated-Front_Blouse/img_00000005.jpg   46   88  166  262"
      ],
      "text/html": [
       "<div>\n",
       "<style scoped>\n",
       "    .dataframe tbody tr th:only-of-type {\n",
       "        vertical-align: middle;\n",
       "    }\n",
       "\n",
       "    .dataframe tbody tr th {\n",
       "        vertical-align: top;\n",
       "    }\n",
       "\n",
       "    .dataframe thead th {\n",
       "        text-align: right;\n",
       "    }\n",
       "</style>\n",
       "<table border=\"1\" class=\"dataframe\">\n",
       "  <thead>\n",
       "    <tr style=\"text-align: right;\">\n",
       "      <th></th>\n",
       "      <th>image_name</th>\n",
       "      <th>x_1</th>\n",
       "      <th>y_1</th>\n",
       "      <th>x_2</th>\n",
       "      <th>y_2</th>\n",
       "    </tr>\n",
       "  </thead>\n",
       "  <tbody>\n",
       "    <tr>\n",
       "      <th>0</th>\n",
       "      <td>img/Sheer_Pleated-Front_Blouse/img_00000001.jpg</td>\n",
       "      <td>72</td>\n",
       "      <td>79</td>\n",
       "      <td>232</td>\n",
       "      <td>273</td>\n",
       "    </tr>\n",
       "    <tr>\n",
       "      <th>1</th>\n",
       "      <td>img/Sheer_Pleated-Front_Blouse/img_00000002.jpg</td>\n",
       "      <td>67</td>\n",
       "      <td>59</td>\n",
       "      <td>155</td>\n",
       "      <td>161</td>\n",
       "    </tr>\n",
       "    <tr>\n",
       "      <th>2</th>\n",
       "      <td>img/Sheer_Pleated-Front_Blouse/img_00000003.jpg</td>\n",
       "      <td>65</td>\n",
       "      <td>65</td>\n",
       "      <td>156</td>\n",
       "      <td>200</td>\n",
       "    </tr>\n",
       "    <tr>\n",
       "      <th>3</th>\n",
       "      <td>img/Sheer_Pleated-Front_Blouse/img_00000004.jpg</td>\n",
       "      <td>51</td>\n",
       "      <td>62</td>\n",
       "      <td>167</td>\n",
       "      <td>182</td>\n",
       "    </tr>\n",
       "    <tr>\n",
       "      <th>4</th>\n",
       "      <td>img/Sheer_Pleated-Front_Blouse/img_00000005.jpg</td>\n",
       "      <td>46</td>\n",
       "      <td>88</td>\n",
       "      <td>166</td>\n",
       "      <td>262</td>\n",
       "    </tr>\n",
       "  </tbody>\n",
       "</table>\n",
       "</div>"
      ]
     },
     "execution_count": 6,
     "metadata": {},
     "output_type": "execute_result"
    }
   ],
   "execution_count": 6
  },
  {
   "metadata": {
    "ExecuteTime": {
     "end_time": "2024-06-11T11:13:04.090356Z",
     "start_time": "2024-06-11T11:13:03.872207Z"
    }
   },
   "cell_type": "code",
   "source": [
    "tee = find_category(images, 'Tee')\n",
    "blouse = find_category(images, 'Blouse')\n",
    "dress = find_category(images, 'Dress')"
   ],
   "id": "5a32abe93d82f0a4",
   "outputs": [],
   "execution_count": 7
  },
  {
   "metadata": {
    "ExecuteTime": {
     "end_time": "2024-06-11T11:13:04.097530Z",
     "start_time": "2024-06-11T11:13:04.090356Z"
    }
   },
   "cell_type": "code",
   "source": "blouse",
   "id": "e14f58923bbd087b",
   "outputs": [
    {
     "data": {
      "text/plain": [
       "                                             image_name  x_1  y_1  x_2  y_2\n",
       "0       img/Sheer_Pleated-Front_Blouse/img_00000001.jpg   72   79  232  273\n",
       "1       img/Sheer_Pleated-Front_Blouse/img_00000002.jpg   67   59  155  161\n",
       "2       img/Sheer_Pleated-Front_Blouse/img_00000003.jpg   65   65  156  200\n",
       "3       img/Sheer_Pleated-Front_Blouse/img_00000004.jpg   51   62  167  182\n",
       "4       img/Sheer_Pleated-Front_Blouse/img_00000005.jpg   46   88  166  262\n",
       "...                                                 ...  ...  ...  ...  ...\n",
       "32846  img/Sheer_Lace_&_Chiffon_Blouse/img_00000130.jpg   73   77  182  279\n",
       "32847  img/Sheer_Lace_&_Chiffon_Blouse/img_00000131.jpg    1    7  178  300\n",
       "32848  img/Sheer_Lace_&_Chiffon_Blouse/img_00000132.jpg   42   69  205  267\n",
       "32849  img/Sheer_Lace_&_Chiffon_Blouse/img_00000133.jpg   73   31  300  300\n",
       "32850  img/Sheer_Lace_&_Chiffon_Blouse/img_00000134.jpg   42    2  259  208\n",
       "\n",
       "[24557 rows x 5 columns]"
      ],
      "text/html": [
       "<div>\n",
       "<style scoped>\n",
       "    .dataframe tbody tr th:only-of-type {\n",
       "        vertical-align: middle;\n",
       "    }\n",
       "\n",
       "    .dataframe tbody tr th {\n",
       "        vertical-align: top;\n",
       "    }\n",
       "\n",
       "    .dataframe thead th {\n",
       "        text-align: right;\n",
       "    }\n",
       "</style>\n",
       "<table border=\"1\" class=\"dataframe\">\n",
       "  <thead>\n",
       "    <tr style=\"text-align: right;\">\n",
       "      <th></th>\n",
       "      <th>image_name</th>\n",
       "      <th>x_1</th>\n",
       "      <th>y_1</th>\n",
       "      <th>x_2</th>\n",
       "      <th>y_2</th>\n",
       "    </tr>\n",
       "  </thead>\n",
       "  <tbody>\n",
       "    <tr>\n",
       "      <th>0</th>\n",
       "      <td>img/Sheer_Pleated-Front_Blouse/img_00000001.jpg</td>\n",
       "      <td>72</td>\n",
       "      <td>79</td>\n",
       "      <td>232</td>\n",
       "      <td>273</td>\n",
       "    </tr>\n",
       "    <tr>\n",
       "      <th>1</th>\n",
       "      <td>img/Sheer_Pleated-Front_Blouse/img_00000002.jpg</td>\n",
       "      <td>67</td>\n",
       "      <td>59</td>\n",
       "      <td>155</td>\n",
       "      <td>161</td>\n",
       "    </tr>\n",
       "    <tr>\n",
       "      <th>2</th>\n",
       "      <td>img/Sheer_Pleated-Front_Blouse/img_00000003.jpg</td>\n",
       "      <td>65</td>\n",
       "      <td>65</td>\n",
       "      <td>156</td>\n",
       "      <td>200</td>\n",
       "    </tr>\n",
       "    <tr>\n",
       "      <th>3</th>\n",
       "      <td>img/Sheer_Pleated-Front_Blouse/img_00000004.jpg</td>\n",
       "      <td>51</td>\n",
       "      <td>62</td>\n",
       "      <td>167</td>\n",
       "      <td>182</td>\n",
       "    </tr>\n",
       "    <tr>\n",
       "      <th>4</th>\n",
       "      <td>img/Sheer_Pleated-Front_Blouse/img_00000005.jpg</td>\n",
       "      <td>46</td>\n",
       "      <td>88</td>\n",
       "      <td>166</td>\n",
       "      <td>262</td>\n",
       "    </tr>\n",
       "    <tr>\n",
       "      <th>...</th>\n",
       "      <td>...</td>\n",
       "      <td>...</td>\n",
       "      <td>...</td>\n",
       "      <td>...</td>\n",
       "      <td>...</td>\n",
       "    </tr>\n",
       "    <tr>\n",
       "      <th>32846</th>\n",
       "      <td>img/Sheer_Lace_&amp;_Chiffon_Blouse/img_00000130.jpg</td>\n",
       "      <td>73</td>\n",
       "      <td>77</td>\n",
       "      <td>182</td>\n",
       "      <td>279</td>\n",
       "    </tr>\n",
       "    <tr>\n",
       "      <th>32847</th>\n",
       "      <td>img/Sheer_Lace_&amp;_Chiffon_Blouse/img_00000131.jpg</td>\n",
       "      <td>1</td>\n",
       "      <td>7</td>\n",
       "      <td>178</td>\n",
       "      <td>300</td>\n",
       "    </tr>\n",
       "    <tr>\n",
       "      <th>32848</th>\n",
       "      <td>img/Sheer_Lace_&amp;_Chiffon_Blouse/img_00000132.jpg</td>\n",
       "      <td>42</td>\n",
       "      <td>69</td>\n",
       "      <td>205</td>\n",
       "      <td>267</td>\n",
       "    </tr>\n",
       "    <tr>\n",
       "      <th>32849</th>\n",
       "      <td>img/Sheer_Lace_&amp;_Chiffon_Blouse/img_00000133.jpg</td>\n",
       "      <td>73</td>\n",
       "      <td>31</td>\n",
       "      <td>300</td>\n",
       "      <td>300</td>\n",
       "    </tr>\n",
       "    <tr>\n",
       "      <th>32850</th>\n",
       "      <td>img/Sheer_Lace_&amp;_Chiffon_Blouse/img_00000134.jpg</td>\n",
       "      <td>42</td>\n",
       "      <td>2</td>\n",
       "      <td>259</td>\n",
       "      <td>208</td>\n",
       "    </tr>\n",
       "  </tbody>\n",
       "</table>\n",
       "<p>24557 rows × 5 columns</p>\n",
       "</div>"
      ]
     },
     "execution_count": 8,
     "metadata": {},
     "output_type": "execute_result"
    }
   ],
   "execution_count": 8
  },
  {
   "metadata": {
    "ExecuteTime": {
     "end_time": "2024-06-11T11:13:04.566894Z",
     "start_time": "2024-06-11T11:13:04.097530Z"
    }
   },
   "cell_type": "code",
   "source": [
    "truncate_images(tee.head(100))\n",
    "truncate_images(blouse.head(100))\n",
    "truncate_images(dress.head(100))"
   ],
   "id": "83268eb268ef1489",
   "outputs": [],
   "execution_count": 9
  },
  {
   "metadata": {
    "ExecuteTime": {
     "end_time": "2024-06-11T11:13:04.808218Z",
     "start_time": "2024-06-11T11:13:04.566894Z"
    }
   },
   "cell_type": "code",
   "source": [
    "jeans = find_category(images, 'Jeans')\n",
    "truncate_images(jeans.head(100))"
   ],
   "id": "fbee7e45fa5d70dd",
   "outputs": [],
   "execution_count": 10
  },
  {
   "metadata": {
    "ExecuteTime": {
     "end_time": "2024-06-11T11:13:05.049375Z",
     "start_time": "2024-06-11T11:13:04.808218Z"
    }
   },
   "cell_type": "code",
   "source": [
    "skirt = find_category(images, 'Skirt')\n",
    "truncate_images(skirt.head(100))"
   ],
   "id": "d532392eb7791d94",
   "outputs": [],
   "execution_count": 11
  },
  {
   "metadata": {
    "ExecuteTime": {
     "end_time": "2024-06-11T11:13:05.054226Z",
     "start_time": "2024-06-11T11:13:05.050241Z"
    }
   },
   "cell_type": "code",
   "source": "",
   "id": "61da39e2e1dc82b4",
   "outputs": [],
   "execution_count": 11
  }
 ],
 "metadata": {
  "kernelspec": {
   "display_name": "Python 3",
   "language": "python",
   "name": "python3"
  },
  "language_info": {
   "codemirror_mode": {
    "name": "ipython",
    "version": 2
   },
   "file_extension": ".py",
   "mimetype": "text/x-python",
   "name": "python",
   "nbconvert_exporter": "python",
   "pygments_lexer": "ipython2",
   "version": "2.7.6"
  }
 },
 "nbformat": 4,
 "nbformat_minor": 5
}
