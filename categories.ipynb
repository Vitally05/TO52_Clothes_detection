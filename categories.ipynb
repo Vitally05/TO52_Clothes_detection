{
 "cells": [
  {
   "cell_type": "code",
   "id": "707930ac-018f-45b7-826d-7225d17dc2a2",
   "metadata": {},
   "source": [
    "import pandas as pd\n",
    "import os"
   ],
   "outputs": [],
   "execution_count": null
  },
  {
   "cell_type": "code",
   "id": "14962bdb-ffc4-4b65-a0ce-6f9f95a3ae0a",
   "metadata": {},
   "source": [
    "df = pd.read_csv(\"labels/Anno_coarse/list_category_img.txt\", delim_whitespace=True, header = 1)\n",
    "df.head()"
   ],
   "outputs": [],
   "execution_count": null
  },
  {
   "cell_type": "code",
   "id": "2dbf1342-abb6-4096-aae9-d392b1975c6a",
   "metadata": {},
   "source": [
    "for i in range(50):\n",
    "    if not df[df.eq(i)['category_label']].empty :\n",
    "        print(df[df.eq(i).any(axis=1)].head(1))\n",
    "    else :\n",
    "        print(\"No category \" + str(i))"
   ],
   "outputs": [],
   "execution_count": null
  },
  {
   "cell_type": "code",
   "id": "f31bc1fe-5afb-4182-9591-e88ebac9ec85",
   "metadata": {},
   "source": [
    "category_df = pd.read_csv(\"labels/Anno_coarse/list_category_cloth.txt\", delim_whitespace=True, header = 1)\n",
    "category_df"
   ],
   "outputs": [],
   "execution_count": null
  },
  {
   "cell_type": "code",
   "source": [
    "i = 0\n",
    "for row in category_df.itertuples():\n",
    "    if not df[df['image_name'].str.contains(str(row.category_name), regex=True)].empty:\n",
    "        #print(\"Found \" + row.category_name)\n",
    "        category_df.at[row.Index, 'category_type'] = i\n",
    "        #print(category_df.at[row.Index, 'category_type'])  # Affiche la valeur mise à jour\n",
    "        i += 1\n",
    "    else:\n",
    "        print(\"Dropped \" + row.category_name)\n",
    "        category_df.drop(row.Index, inplace=True)\n",
    "        \n",
    "for row in category_df.itertuples():\n",
    "    print(row)"
   ],
   "metadata": {
    "collapsed": false
   },
   "id": "f72f4f440223f271",
   "outputs": [],
   "execution_count": null
  },
  {
   "cell_type": "code",
   "source": [
    "category_df"
   ],
   "metadata": {
    "collapsed": false
   },
   "id": "d8da8e8f49cb2f1e",
   "outputs": [],
   "execution_count": null
  },
  {
   "cell_type": "code",
   "source": [
    "def csv_to_txt(csv_path, txt_path):\n",
    "    with open(csv_path, 'r') as csv_file, open(txt_path, 'w') as txt_file:\n",
    "        for line in csv_file:\n",
    "            txt_file.write(line)"
   ],
   "metadata": {
    "collapsed": false
   },
   "id": "33aeb66f12b994ca",
   "outputs": [],
   "execution_count": null
  },
  {
   "cell_type": "code",
   "source": [
    "csv_filename = 'labels/Anno_coarse/categories.csv'\n",
    "category_df.to_csv(csv_filename, index=False)\n",
    "txt_filename = 'labels/Anno_coarse/categories.txt'\n",
    "csv_to_txt(csv_filename, txt_filename)\n",
    "os.remove(csv_filename)"
   ],
   "metadata": {
    "collapsed": false
   },
   "id": "abd8e102511ba2a7",
   "outputs": [],
   "execution_count": null
  },
  {
   "cell_type": "code",
   "source": [],
   "metadata": {
    "collapsed": false
   },
   "id": "f602886750a32175",
   "outputs": [],
   "execution_count": null
  },
  {
   "cell_type": "code",
   "source": [
    "def list_directories(path):\n",
    "    \"\"\" List all directories inside the given path using os module \"\"\"\n",
    "    return [name for name in os.listdir(path) if os.path.isdir(os.path.join(path, name))]\n",
    "\n",
    "def directories_to_df(path):\n",
    "    \"\"\" Create a DataFrame from the list of directory paths \"\"\"\n",
    "    directories = list_directories(path)\n",
    "    df = pd.DataFrame(directories, columns=['image_name'])\n",
    "    df['image_name'] = df['image_name'].astype(str)\n",
    "    return df"
   ],
   "metadata": {
    "collapsed": false
   },
   "id": "cda289c696f26110",
   "outputs": [],
   "execution_count": null
  },
  {
   "cell_type": "code",
   "source": [
    "df_path = directories_to_df('data/img')\n",
    "df_path"
   ],
   "metadata": {
    "collapsed": false
   },
   "id": "59ea1683e731eaca",
   "outputs": [],
   "execution_count": null
  },
  {
   "cell_type": "code",
   "source": [
    "adjectives = pd.DataFrame(df_path['image_name'].str.split('_', expand=True))\n",
    "adjectives"
   ],
   "metadata": {
    "collapsed": false
   },
   "id": "772c5f95d81cd9bd",
   "outputs": [],
   "execution_count": null
  },
  {
   "metadata": {},
   "cell_type": "code",
   "source": [
    "texture = adjectives[0].rename('texture')\n",
    "texture = pd.DataFrame(texture.unique(), columns=['texture'])\n",
    "texture.drop(axis=0, index=[0,1,2,3], inplace=True)\n",
    "texture"
   ],
   "id": "8bacf550a245391c",
   "outputs": [],
   "execution_count": null
  },
  {
   "metadata": {},
   "cell_type": "code",
   "source": [
    "count_values = []\n",
    "\n",
    "# Iterate over each unique texture and count occurrences in the 'image_name' column\n",
    "for tex in texture['texture']:\n",
    "    count = df['image_name'].str.contains(tex, regex=True).sum()  # Counts the number of True values\n",
    "    count_values.append([tex, count])  # Store texture and its count\n",
    "\n",
    "# Convert count_values to DataFrame for better display\n",
    "count_df = pd.DataFrame(count_values, columns=['Texture', 'Count'])"
   ],
   "id": "1f22ab3d1268b020",
   "outputs": [],
   "execution_count": null
  },
  {
   "metadata": {},
   "cell_type": "code",
   "source": "count_df",
   "id": "9e70a5381ff77d9b",
   "outputs": [],
   "execution_count": null
  },
  {
   "metadata": {},
   "cell_type": "code",
   "source": [
    "for row in count_df.itertuples():\n",
    "    if row.Count < 1000:\n",
    "        print(\"Dropped \" + row.Texture)\n",
    "        texture.drop(texture[texture['texture'] == row.Texture].index, inplace=True)\n",
    "\n",
    "texture"
   ],
   "id": "11918e2731c9c433",
   "outputs": [],
   "execution_count": null
  },
  {
   "metadata": {},
   "cell_type": "code",
   "source": [
    "import pandas as pd\n",
    "import os\n",
    "import re\n",
    "from io import StringIO"
   ],
   "id": "aaffd49448e72060",
   "outputs": [],
   "execution_count": null
  },
  {
   "metadata": {},
   "cell_type": "code",
   "source": [
    "df = pd.read_csv(\"labels/Anno_coarse/list_bbox.txt\", delim_whitespace=True, header = 1)\n",
    "df.head()"
   ],
   "id": "d73a951de9024a8d",
   "outputs": [],
   "execution_count": null
  },
  {
   "metadata": {},
   "cell_type": "code",
   "source": [
    "file_path = 'labels/Anno_coarse/list_attr_cloth.txt'\n",
    "\n",
    "# Prepare to read the file and transform lines\n",
    "transformed_lines = []\n",
    "with open(file_path, 'r') as file:\n",
    "    for line in file:\n",
    "        # Strip leading/trailing whitespace and replace spaces before non-space characters\n",
    "        transformed_line = re.sub(r' (?=\\S)(?!\\d)', '_', line.strip())\n",
    "        transformed_line = transformed_line.title()\n",
    "        transformed_lines.append(transformed_line)\n",
    "\n",
    "\n",
    "# Convert the list of transformed lines into a DataFrame\n",
    "data = '\\n'.join(transformed_lines)\n",
    "data = StringIO(data)\n",
    "# Adjusting separator as necessary based on actual data\n",
    "raw_attributes = pd.read_csv(data, sep='\\s+', header=1)\n",
    "column_names = ['attribute_name', 'attribute_type']\n",
    "raw_attributes.columns = column_names\n",
    "raw_attributes.head(10)\n"
   ],
   "id": "f48b46a5a0e56832",
   "outputs": [],
   "execution_count": null
  },
  {
   "metadata": {},
   "cell_type": "code",
   "source": [
    "count_values = []\n",
    "\n",
    "# Iterate over each unique texture and count occurrences in the 'image_name' column\n",
    "for row in raw_attributes.itertuples():\n",
    "    attribute_name = getattr(row, 'attribute_name')\n",
    "    attribute_type = getattr(row, 'attribute_type')\n",
    "    count = df['image_name'].str.contains(attribute_name, regex=True).sum()  # Counts the number of True values\n",
    "    count_values.append([attribute_name, attribute_type, count])  # Store texture and its count\n",
    "\n",
    "# Convert count_values to DataFrame for better display\n",
    "count_df = pd.DataFrame(count_values, columns=['attribute_name', 'attribute_type', 'count'])"
   ],
   "id": "fd52b3c7be5e7e28",
   "outputs": [],
   "execution_count": null
  },
  {
   "metadata": {},
   "cell_type": "code",
   "source": "count_df",
   "id": "18cd298c2cb5c1f0",
   "outputs": [],
   "execution_count": null
  },
  {
   "metadata": {},
   "cell_type": "code",
   "source": [
    "selected_rows = []  # A list to hold the rows that meet the condition\n",
    "for row in count_df.itertuples():\n",
    "    if row.count > 1000:\n",
    "        selected_rows.append(row)  # Append the row as a dictionary\n",
    "\n",
    "attribute = pd.DataFrame(selected_rows)\n",
    "attribute.drop(columns=['Index'], inplace=True)\n",
    "attribute"
   ],
   "id": "18a81428cff5f519",
   "outputs": [],
   "execution_count": null
  },
  {
   "metadata": {},
   "cell_type": "code",
   "source": [
    "texture = attribute[attribute['attribute_type'] == 1]\n",
    "fabric = attribute[attribute['attribute_type'] == 2]\n",
    "shape = attribute[attribute['attribute_type'] == 3]\n",
    "part = attribute[attribute['attribute_type'] == 4]\n",
    "style = attribute[attribute['attribute_type'] == 5]    "
   ],
   "id": "a637c744dc594ced",
   "outputs": [],
   "execution_count": null
  },
  {
   "metadata": {},
   "cell_type": "code",
   "source": "style",
   "id": "939a6259d8c0c06",
   "outputs": [],
   "execution_count": null
  },
  {
   "metadata": {},
   "cell_type": "code",
   "source": "",
   "id": "cb918eb4f9f7b499",
   "outputs": [],
   "execution_count": null
  }
 ],
 "metadata": {
  "kernelspec": {
   "display_name": "Python 3 (ipykernel)",
   "language": "python",
   "name": "python3"
  },
  "language_info": {
   "codemirror_mode": {
    "name": "ipython",
    "version": 3
   },
   "file_extension": ".py",
   "mimetype": "text/x-python",
   "name": "python",
   "nbconvert_exporter": "python",
   "pygments_lexer": "ipython3",
   "version": "3.12.2"
  }
 },
 "nbformat": 4,
 "nbformat_minor": 5
}
