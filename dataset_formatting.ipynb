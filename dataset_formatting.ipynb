{
 "cells": [
  {
   "cell_type": "code",
   "execution_count": 1,
   "id": "initial_id",
   "metadata": {
    "collapsed": true,
    "ExecuteTime": {
     "end_time": "2024-04-22T12:20:53.186930Z",
     "start_time": "2024-04-22T12:20:52.825027Z"
    }
   },
   "outputs": [],
   "source": [
    "import pandas as pd\n",
    "import os\n",
    "import datetime\n",
    "import shutil\n",
    "from PIL import Image"
   ]
  },
  {
   "cell_type": "code",
   "outputs": [
    {
     "name": "stderr",
     "output_type": "stream",
     "text": [
      "C:\\Users\\elise\\AppData\\Local\\Temp\\ipykernel_40876\\1146341607.py:1: FutureWarning: The 'delim_whitespace' keyword in pd.read_csv is deprecated and will be removed in a future version. Use ``sep='\\s+'`` instead\n",
      "  df = pd.read_csv(\"labels/Anno_coarse/list_bbox.txt\", delim_whitespace=True, header=1)\n"
     ]
    },
    {
     "data": {
      "text/plain": "                                               image_name  x_1  y_1  x_2  y_2\n0         img/Sheer_Pleated-Front_Blouse/img_00000001.jpg   72   79  232  273\n1         img/Sheer_Pleated-Front_Blouse/img_00000002.jpg   67   59  155  161\n2         img/Sheer_Pleated-Front_Blouse/img_00000003.jpg   65   65  156  200\n3         img/Sheer_Pleated-Front_Blouse/img_00000004.jpg   51   62  167  182\n4         img/Sheer_Pleated-Front_Blouse/img_00000005.jpg   46   88  166  262\n...                                                   ...  ...  ...  ...  ...\n289217  img/Paisley_Print_Babydoll_Dress/img_00000050.jpg    1    1  300  300\n289218  img/Paisley_Print_Babydoll_Dress/img_00000051.jpg   14   58  225  277\n289219  img/Paisley_Print_Babydoll_Dress/img_00000052.jpg   18   41  149  230\n289220  img/Paisley_Print_Babydoll_Dress/img_00000053.jpg   75   47  220  300\n289221  img/Paisley_Print_Babydoll_Dress/img_00000054.jpg   36   63  202  296\n\n[289222 rows x 5 columns]",
      "text/html": "<div>\n<style scoped>\n    .dataframe tbody tr th:only-of-type {\n        vertical-align: middle;\n    }\n\n    .dataframe tbody tr th {\n        vertical-align: top;\n    }\n\n    .dataframe thead th {\n        text-align: right;\n    }\n</style>\n<table border=\"1\" class=\"dataframe\">\n  <thead>\n    <tr style=\"text-align: right;\">\n      <th></th>\n      <th>image_name</th>\n      <th>x_1</th>\n      <th>y_1</th>\n      <th>x_2</th>\n      <th>y_2</th>\n    </tr>\n  </thead>\n  <tbody>\n    <tr>\n      <th>0</th>\n      <td>img/Sheer_Pleated-Front_Blouse/img_00000001.jpg</td>\n      <td>72</td>\n      <td>79</td>\n      <td>232</td>\n      <td>273</td>\n    </tr>\n    <tr>\n      <th>1</th>\n      <td>img/Sheer_Pleated-Front_Blouse/img_00000002.jpg</td>\n      <td>67</td>\n      <td>59</td>\n      <td>155</td>\n      <td>161</td>\n    </tr>\n    <tr>\n      <th>2</th>\n      <td>img/Sheer_Pleated-Front_Blouse/img_00000003.jpg</td>\n      <td>65</td>\n      <td>65</td>\n      <td>156</td>\n      <td>200</td>\n    </tr>\n    <tr>\n      <th>3</th>\n      <td>img/Sheer_Pleated-Front_Blouse/img_00000004.jpg</td>\n      <td>51</td>\n      <td>62</td>\n      <td>167</td>\n      <td>182</td>\n    </tr>\n    <tr>\n      <th>4</th>\n      <td>img/Sheer_Pleated-Front_Blouse/img_00000005.jpg</td>\n      <td>46</td>\n      <td>88</td>\n      <td>166</td>\n      <td>262</td>\n    </tr>\n    <tr>\n      <th>...</th>\n      <td>...</td>\n      <td>...</td>\n      <td>...</td>\n      <td>...</td>\n      <td>...</td>\n    </tr>\n    <tr>\n      <th>289217</th>\n      <td>img/Paisley_Print_Babydoll_Dress/img_00000050.jpg</td>\n      <td>1</td>\n      <td>1</td>\n      <td>300</td>\n      <td>300</td>\n    </tr>\n    <tr>\n      <th>289218</th>\n      <td>img/Paisley_Print_Babydoll_Dress/img_00000051.jpg</td>\n      <td>14</td>\n      <td>58</td>\n      <td>225</td>\n      <td>277</td>\n    </tr>\n    <tr>\n      <th>289219</th>\n      <td>img/Paisley_Print_Babydoll_Dress/img_00000052.jpg</td>\n      <td>18</td>\n      <td>41</td>\n      <td>149</td>\n      <td>230</td>\n    </tr>\n    <tr>\n      <th>289220</th>\n      <td>img/Paisley_Print_Babydoll_Dress/img_00000053.jpg</td>\n      <td>75</td>\n      <td>47</td>\n      <td>220</td>\n      <td>300</td>\n    </tr>\n    <tr>\n      <th>289221</th>\n      <td>img/Paisley_Print_Babydoll_Dress/img_00000054.jpg</td>\n      <td>36</td>\n      <td>63</td>\n      <td>202</td>\n      <td>296</td>\n    </tr>\n  </tbody>\n</table>\n<p>289222 rows × 5 columns</p>\n</div>"
     },
     "execution_count": 2,
     "metadata": {},
     "output_type": "execute_result"
    }
   ],
   "source": [
    "df = pd.read_csv(\"labels/Anno_coarse/list_bbox.txt\", delim_whitespace=True, header=1)\n",
    "df"
   ],
   "metadata": {
    "collapsed": false,
    "ExecuteTime": {
     "end_time": "2024-04-22T12:20:54.018845Z",
     "start_time": "2024-04-22T12:20:53.188064Z"
    }
   },
   "id": "ebcbd181c422e824",
   "execution_count": 2
  },
  {
   "cell_type": "code",
   "outputs": [
    {
     "data": {
      "text/plain": "   category_name  category_type\n0         Anorak              0\n1         Blazer              1\n2         Blouse              2\n3         Bomber              3\n4    Button-Down              4\n5       Cardigan              5\n6        Flannel              6\n7         Halter              7\n8         Henley              8\n9         Hoodie              9\n10        Jacket             10\n11        Jersey             11\n12         Parka             12\n13       Peacoat             13\n14        Poncho             14\n15       Sweater             15\n16          Tank             16\n17           Tee             17\n18           Top             18\n19    Turtleneck             19\n20        Capris             20\n21        Chinos             21\n22      Culottes             22\n23       Cutoffs             23\n24       Gauchos             24\n25         Jeans             25\n26      Jeggings             26\n27      Jodhpurs             27\n28       Joggers             28\n29      Leggings             29\n30        Sarong             30\n31        Shorts             31\n32         Skirt             32\n33    Sweatpants             33\n34   Sweatshorts             34\n35        Trunks             35\n36        Caftan             36\n37          Coat             37\n38       Coverup             38\n39         Dress             39\n40      Jumpsuit             40\n41        Kaftan             41\n42        Kimono             42\n43        Onesie             43\n44          Robe             44\n45        Romper             45",
      "text/html": "<div>\n<style scoped>\n    .dataframe tbody tr th:only-of-type {\n        vertical-align: middle;\n    }\n\n    .dataframe tbody tr th {\n        vertical-align: top;\n    }\n\n    .dataframe thead th {\n        text-align: right;\n    }\n</style>\n<table border=\"1\" class=\"dataframe\">\n  <thead>\n    <tr style=\"text-align: right;\">\n      <th></th>\n      <th>category_name</th>\n      <th>category_type</th>\n    </tr>\n  </thead>\n  <tbody>\n    <tr>\n      <th>0</th>\n      <td>Anorak</td>\n      <td>0</td>\n    </tr>\n    <tr>\n      <th>1</th>\n      <td>Blazer</td>\n      <td>1</td>\n    </tr>\n    <tr>\n      <th>2</th>\n      <td>Blouse</td>\n      <td>2</td>\n    </tr>\n    <tr>\n      <th>3</th>\n      <td>Bomber</td>\n      <td>3</td>\n    </tr>\n    <tr>\n      <th>4</th>\n      <td>Button-Down</td>\n      <td>4</td>\n    </tr>\n    <tr>\n      <th>5</th>\n      <td>Cardigan</td>\n      <td>5</td>\n    </tr>\n    <tr>\n      <th>6</th>\n      <td>Flannel</td>\n      <td>6</td>\n    </tr>\n    <tr>\n      <th>7</th>\n      <td>Halter</td>\n      <td>7</td>\n    </tr>\n    <tr>\n      <th>8</th>\n      <td>Henley</td>\n      <td>8</td>\n    </tr>\n    <tr>\n      <th>9</th>\n      <td>Hoodie</td>\n      <td>9</td>\n    </tr>\n    <tr>\n      <th>10</th>\n      <td>Jacket</td>\n      <td>10</td>\n    </tr>\n    <tr>\n      <th>11</th>\n      <td>Jersey</td>\n      <td>11</td>\n    </tr>\n    <tr>\n      <th>12</th>\n      <td>Parka</td>\n      <td>12</td>\n    </tr>\n    <tr>\n      <th>13</th>\n      <td>Peacoat</td>\n      <td>13</td>\n    </tr>\n    <tr>\n      <th>14</th>\n      <td>Poncho</td>\n      <td>14</td>\n    </tr>\n    <tr>\n      <th>15</th>\n      <td>Sweater</td>\n      <td>15</td>\n    </tr>\n    <tr>\n      <th>16</th>\n      <td>Tank</td>\n      <td>16</td>\n    </tr>\n    <tr>\n      <th>17</th>\n      <td>Tee</td>\n      <td>17</td>\n    </tr>\n    <tr>\n      <th>18</th>\n      <td>Top</td>\n      <td>18</td>\n    </tr>\n    <tr>\n      <th>19</th>\n      <td>Turtleneck</td>\n      <td>19</td>\n    </tr>\n    <tr>\n      <th>20</th>\n      <td>Capris</td>\n      <td>20</td>\n    </tr>\n    <tr>\n      <th>21</th>\n      <td>Chinos</td>\n      <td>21</td>\n    </tr>\n    <tr>\n      <th>22</th>\n      <td>Culottes</td>\n      <td>22</td>\n    </tr>\n    <tr>\n      <th>23</th>\n      <td>Cutoffs</td>\n      <td>23</td>\n    </tr>\n    <tr>\n      <th>24</th>\n      <td>Gauchos</td>\n      <td>24</td>\n    </tr>\n    <tr>\n      <th>25</th>\n      <td>Jeans</td>\n      <td>25</td>\n    </tr>\n    <tr>\n      <th>26</th>\n      <td>Jeggings</td>\n      <td>26</td>\n    </tr>\n    <tr>\n      <th>27</th>\n      <td>Jodhpurs</td>\n      <td>27</td>\n    </tr>\n    <tr>\n      <th>28</th>\n      <td>Joggers</td>\n      <td>28</td>\n    </tr>\n    <tr>\n      <th>29</th>\n      <td>Leggings</td>\n      <td>29</td>\n    </tr>\n    <tr>\n      <th>30</th>\n      <td>Sarong</td>\n      <td>30</td>\n    </tr>\n    <tr>\n      <th>31</th>\n      <td>Shorts</td>\n      <td>31</td>\n    </tr>\n    <tr>\n      <th>32</th>\n      <td>Skirt</td>\n      <td>32</td>\n    </tr>\n    <tr>\n      <th>33</th>\n      <td>Sweatpants</td>\n      <td>33</td>\n    </tr>\n    <tr>\n      <th>34</th>\n      <td>Sweatshorts</td>\n      <td>34</td>\n    </tr>\n    <tr>\n      <th>35</th>\n      <td>Trunks</td>\n      <td>35</td>\n    </tr>\n    <tr>\n      <th>36</th>\n      <td>Caftan</td>\n      <td>36</td>\n    </tr>\n    <tr>\n      <th>37</th>\n      <td>Coat</td>\n      <td>37</td>\n    </tr>\n    <tr>\n      <th>38</th>\n      <td>Coverup</td>\n      <td>38</td>\n    </tr>\n    <tr>\n      <th>39</th>\n      <td>Dress</td>\n      <td>39</td>\n    </tr>\n    <tr>\n      <th>40</th>\n      <td>Jumpsuit</td>\n      <td>40</td>\n    </tr>\n    <tr>\n      <th>41</th>\n      <td>Kaftan</td>\n      <td>41</td>\n    </tr>\n    <tr>\n      <th>42</th>\n      <td>Kimono</td>\n      <td>42</td>\n    </tr>\n    <tr>\n      <th>43</th>\n      <td>Onesie</td>\n      <td>43</td>\n    </tr>\n    <tr>\n      <th>44</th>\n      <td>Robe</td>\n      <td>44</td>\n    </tr>\n    <tr>\n      <th>45</th>\n      <td>Romper</td>\n      <td>45</td>\n    </tr>\n  </tbody>\n</table>\n</div>"
     },
     "execution_count": 3,
     "metadata": {},
     "output_type": "execute_result"
    }
   ],
   "source": [
    "category_df = pd.read_csv(\"labels/Anno_coarse/categories.txt\", delimiter=\",\", header=0)\n",
    "category_df"
   ],
   "metadata": {
    "collapsed": false,
    "ExecuteTime": {
     "end_time": "2024-04-22T12:20:54.029488Z",
     "start_time": "2024-04-22T12:20:54.020010Z"
    }
   },
   "id": "18c0a8e0e6a8b337",
   "execution_count": 3
  },
  {
   "cell_type": "code",
   "outputs": [],
   "source": [
    "def corr_positions(df, cat_num):\n",
    "    '''Corriger les positions des boîtes englobantes pour les coordonnées des centres et les dimensions des boîtes englobantes\n",
    "    df : DataFrame des positions des boîtes englobantes\n",
    "    cat_num : int\n",
    "    return : DataFrame'''\n",
    "    \n",
    "    corr_data = []   \n",
    "    \n",
    "    for row in df.itertuples():\n",
    "        img_path = 'data/' + row.image_name\n",
    "        with open(img_path, 'rb') as img_file:\n",
    "            image = Image.open(img_file)\n",
    "            img_width, img_height = image.size\n",
    "        image = row.image_name.replace('img/', '')\n",
    "        img_name = image.replace('/', '_')\n",
    "        width = (row.x_2 - row.x_1) \n",
    "        height = (row.y_2 - row.y_1)\n",
    "        x_center = ((width/2) + row.x_1) / img_width\n",
    "        y_center = ((height/2) + row.y_1) / img_height\n",
    "        width = width / img_width\n",
    "        height = height / img_height\n",
    "        corr_data.append({'image_name': img_name, 'category_type': cat_num, 'x_center': x_center, 'y_center': y_center, 'width': width, 'height': height}) \n",
    "    corr_df = pd.DataFrame(corr_data)\n",
    "    return corr_df"
   ],
   "metadata": {
    "collapsed": false,
    "ExecuteTime": {
     "end_time": "2024-04-22T12:20:54.037092Z",
     "start_time": "2024-04-22T12:20:54.031097Z"
    }
   },
   "id": "ae9e9ef396ca80fe",
   "execution_count": 4
  },
  {
   "cell_type": "code",
   "outputs": [],
   "source": [
    "def find_category(df, category_name):\n",
    "    '''Trouver la catégorie de vêtement dans le DataFrame\n",
    "    df : DataFrame des catégories\n",
    "    category_name : str\n",
    "    return : int'''\n",
    "    \n",
    "    return df[df['category_name'].str.contains(category_name)].category_type.values[0]"
   ],
   "metadata": {
    "collapsed": false,
    "ExecuteTime": {
     "end_time": "2024-04-22T12:20:54.043197Z",
     "start_time": "2024-04-22T12:20:54.039708Z"
    }
   },
   "id": "ba7c99633da7d7a5",
   "execution_count": 5
  },
  {
   "cell_type": "markdown",
   "source": [
    "Tests : "
   ],
   "metadata": {
    "collapsed": false
   },
   "id": "b9a793c849a6d0d3"
  },
  {
   "cell_type": "code",
   "outputs": [
    {
     "data": {
      "text/plain": "                                             image_name  x_1  y_1  x_2  y_2\n0       img/Sheer_Pleated-Front_Blouse/img_00000001.jpg   72   79  232  273\n1       img/Sheer_Pleated-Front_Blouse/img_00000002.jpg   67   59  155  161\n2       img/Sheer_Pleated-Front_Blouse/img_00000003.jpg   65   65  156  200\n3       img/Sheer_Pleated-Front_Blouse/img_00000004.jpg   51   62  167  182\n4       img/Sheer_Pleated-Front_Blouse/img_00000005.jpg   46   88  166  262\n...                                                 ...  ...  ...  ...  ...\n32846  img/Sheer_Lace_&_Chiffon_Blouse/img_00000130.jpg   73   77  182  279\n32847  img/Sheer_Lace_&_Chiffon_Blouse/img_00000131.jpg    1    7  178  300\n32848  img/Sheer_Lace_&_Chiffon_Blouse/img_00000132.jpg   42   69  205  267\n32849  img/Sheer_Lace_&_Chiffon_Blouse/img_00000133.jpg   73   31  300  300\n32850  img/Sheer_Lace_&_Chiffon_Blouse/img_00000134.jpg   42    2  259  208\n\n[24557 rows x 5 columns]",
      "text/html": "<div>\n<style scoped>\n    .dataframe tbody tr th:only-of-type {\n        vertical-align: middle;\n    }\n\n    .dataframe tbody tr th {\n        vertical-align: top;\n    }\n\n    .dataframe thead th {\n        text-align: right;\n    }\n</style>\n<table border=\"1\" class=\"dataframe\">\n  <thead>\n    <tr style=\"text-align: right;\">\n      <th></th>\n      <th>image_name</th>\n      <th>x_1</th>\n      <th>y_1</th>\n      <th>x_2</th>\n      <th>y_2</th>\n    </tr>\n  </thead>\n  <tbody>\n    <tr>\n      <th>0</th>\n      <td>img/Sheer_Pleated-Front_Blouse/img_00000001.jpg</td>\n      <td>72</td>\n      <td>79</td>\n      <td>232</td>\n      <td>273</td>\n    </tr>\n    <tr>\n      <th>1</th>\n      <td>img/Sheer_Pleated-Front_Blouse/img_00000002.jpg</td>\n      <td>67</td>\n      <td>59</td>\n      <td>155</td>\n      <td>161</td>\n    </tr>\n    <tr>\n      <th>2</th>\n      <td>img/Sheer_Pleated-Front_Blouse/img_00000003.jpg</td>\n      <td>65</td>\n      <td>65</td>\n      <td>156</td>\n      <td>200</td>\n    </tr>\n    <tr>\n      <th>3</th>\n      <td>img/Sheer_Pleated-Front_Blouse/img_00000004.jpg</td>\n      <td>51</td>\n      <td>62</td>\n      <td>167</td>\n      <td>182</td>\n    </tr>\n    <tr>\n      <th>4</th>\n      <td>img/Sheer_Pleated-Front_Blouse/img_00000005.jpg</td>\n      <td>46</td>\n      <td>88</td>\n      <td>166</td>\n      <td>262</td>\n    </tr>\n    <tr>\n      <th>...</th>\n      <td>...</td>\n      <td>...</td>\n      <td>...</td>\n      <td>...</td>\n      <td>...</td>\n    </tr>\n    <tr>\n      <th>32846</th>\n      <td>img/Sheer_Lace_&amp;_Chiffon_Blouse/img_00000130.jpg</td>\n      <td>73</td>\n      <td>77</td>\n      <td>182</td>\n      <td>279</td>\n    </tr>\n    <tr>\n      <th>32847</th>\n      <td>img/Sheer_Lace_&amp;_Chiffon_Blouse/img_00000131.jpg</td>\n      <td>1</td>\n      <td>7</td>\n      <td>178</td>\n      <td>300</td>\n    </tr>\n    <tr>\n      <th>32848</th>\n      <td>img/Sheer_Lace_&amp;_Chiffon_Blouse/img_00000132.jpg</td>\n      <td>42</td>\n      <td>69</td>\n      <td>205</td>\n      <td>267</td>\n    </tr>\n    <tr>\n      <th>32849</th>\n      <td>img/Sheer_Lace_&amp;_Chiffon_Blouse/img_00000133.jpg</td>\n      <td>73</td>\n      <td>31</td>\n      <td>300</td>\n      <td>300</td>\n    </tr>\n    <tr>\n      <th>32850</th>\n      <td>img/Sheer_Lace_&amp;_Chiffon_Blouse/img_00000134.jpg</td>\n      <td>42</td>\n      <td>2</td>\n      <td>259</td>\n      <td>208</td>\n    </tr>\n  </tbody>\n</table>\n<p>24557 rows × 5 columns</p>\n</div>"
     },
     "execution_count": 6,
     "metadata": {},
     "output_type": "execute_result"
    }
   ],
   "source": [
    "blouse_df = df[df['image_name'].str.contains('Blouse')]\n",
    "blouse_df"
   ],
   "metadata": {
    "collapsed": false,
    "ExecuteTime": {
     "end_time": "2024-04-22T12:20:54.128Z",
     "start_time": "2024-04-22T12:20:54.044435Z"
    }
   },
   "id": "f5df8f83e72f811d",
   "execution_count": 6
  },
  {
   "cell_type": "code",
   "outputs": [
    {
     "data": {
      "text/plain": "                                    image_name  category_type  x_center  \\\n0  Sheer_Pleated-Front_Blouse_img_00000001.jpg              2  0.506667   \n1  Sheer_Pleated-Front_Blouse_img_00000002.jpg              2  0.541463   \n2  Sheer_Pleated-Front_Blouse_img_00000003.jpg              2  0.533816   \n3  Sheer_Pleated-Front_Blouse_img_00000004.jpg              2  0.545000   \n4  Sheer_Pleated-Front_Blouse_img_00000005.jpg              2  0.530000   \n\n   y_center     width    height  \n0  0.586667  0.533333  0.646667  \n1  0.366667  0.429268  0.340000  \n2  0.441667  0.439614  0.450000  \n3  0.488000  0.580000  0.480000  \n4  0.583333  0.600000  0.580000  ",
      "text/html": "<div>\n<style scoped>\n    .dataframe tbody tr th:only-of-type {\n        vertical-align: middle;\n    }\n\n    .dataframe tbody tr th {\n        vertical-align: top;\n    }\n\n    .dataframe thead th {\n        text-align: right;\n    }\n</style>\n<table border=\"1\" class=\"dataframe\">\n  <thead>\n    <tr style=\"text-align: right;\">\n      <th></th>\n      <th>image_name</th>\n      <th>category_type</th>\n      <th>x_center</th>\n      <th>y_center</th>\n      <th>width</th>\n      <th>height</th>\n    </tr>\n  </thead>\n  <tbody>\n    <tr>\n      <th>0</th>\n      <td>Sheer_Pleated-Front_Blouse_img_00000001.jpg</td>\n      <td>2</td>\n      <td>0.506667</td>\n      <td>0.586667</td>\n      <td>0.533333</td>\n      <td>0.646667</td>\n    </tr>\n    <tr>\n      <th>1</th>\n      <td>Sheer_Pleated-Front_Blouse_img_00000002.jpg</td>\n      <td>2</td>\n      <td>0.541463</td>\n      <td>0.366667</td>\n      <td>0.429268</td>\n      <td>0.340000</td>\n    </tr>\n    <tr>\n      <th>2</th>\n      <td>Sheer_Pleated-Front_Blouse_img_00000003.jpg</td>\n      <td>2</td>\n      <td>0.533816</td>\n      <td>0.441667</td>\n      <td>0.439614</td>\n      <td>0.450000</td>\n    </tr>\n    <tr>\n      <th>3</th>\n      <td>Sheer_Pleated-Front_Blouse_img_00000004.jpg</td>\n      <td>2</td>\n      <td>0.545000</td>\n      <td>0.488000</td>\n      <td>0.580000</td>\n      <td>0.480000</td>\n    </tr>\n    <tr>\n      <th>4</th>\n      <td>Sheer_Pleated-Front_Blouse_img_00000005.jpg</td>\n      <td>2</td>\n      <td>0.530000</td>\n      <td>0.583333</td>\n      <td>0.600000</td>\n      <td>0.580000</td>\n    </tr>\n  </tbody>\n</table>\n</div>"
     },
     "execution_count": 7,
     "metadata": {},
     "output_type": "execute_result"
    }
   ],
   "source": [
    "blouse_cat = find_category(category_df, 'Blouse')\n",
    "blouse_corr_df = corr_positions(blouse_df, blouse_cat)\n",
    "blouse_corr_df.head()"
   ],
   "metadata": {
    "collapsed": false,
    "ExecuteTime": {
     "end_time": "2024-04-22T12:21:03.353870Z",
     "start_time": "2024-04-22T12:20:54.128604Z"
    }
   },
   "id": "5a0600174aa86c85",
   "execution_count": 7
  },
  {
   "cell_type": "markdown",
   "source": [
    "Fonctions pour créer le dossier utilisé pour l'entraînement : copier les images et modifier les labels nécessaires :"
   ],
   "metadata": {
    "collapsed": false
   },
   "id": "2e70b2a13fadfd0d"
  },
  {
   "cell_type": "code",
   "outputs": [],
   "source": [
    "def creer_fichier(chemin_fichier):\n",
    "    '''Créer les dossier et fichiers nécessaires pour le fichier txt ou les images\n",
    "    chemin_fichier : str'''\n",
    "\n",
    "    dossier = os.path.dirname(chemin_fichier)\n",
    "    if not os.path.exists(dossier):\n",
    "        os.makedirs(dossier)"
   ],
   "metadata": {
    "collapsed": false,
    "ExecuteTime": {
     "end_time": "2024-04-22T12:21:03.359562Z",
     "start_time": "2024-04-22T12:21:03.354968Z"
    }
   },
   "id": "b0e12004a2173db1",
   "execution_count": 8
  },
  {
   "cell_type": "code",
   "outputs": [],
   "source": [
    "def modification_date(chemin_fichier):\n",
    "    '''Trouver la date de la dernière modification d'un fichier\n",
    "    chemin_fichier : str\n",
    "    return : datetime'''\n",
    "    \n",
    "    modification_timestamp = os.path.getmtime(chemin_fichier)\n",
    "    modification_date = datetime.datetime.fromtimestamp(modification_timestamp)\n",
    "    return modification_date"
   ],
   "metadata": {
    "collapsed": false,
    "ExecuteTime": {
     "end_time": "2024-04-22T12:21:03.365971Z",
     "start_time": "2024-04-22T12:21:03.360563Z"
    }
   },
   "id": "2eb344725ef18c1a",
   "execution_count": 9
  },
  {
   "cell_type": "code",
   "outputs": [],
   "source": [
    "def creer_txt(df, row, chemin_fichier):\n",
    "    '''Créer un fichier txt avec les coordonnées des boîtes englobantes\n",
    "    df : DataFrame des bonnes coordonnées des boîtes englobantes (cat, x_center, y_center, width, height)\n",
    "    row : Series\n",
    "    chemin_fichier : str'''\n",
    "\n",
    "    ligne = df.iloc[row.Index]\n",
    "    ligne = ligne.drop(['image_name'])\n",
    "    ligne_concatenee = ' '.join(map(str, ligne))\n",
    "    with open(chemin_fichier, 'a+') as fichier:\n",
    "        fichier.seek(0)  # Retourner au début du fichier\n",
    "        contenu_existant = fichier.read()  # Lire le contenu existant du fichier\n",
    "        if modification_date(chemin_fichier) < (datetime.datetime.now() - datetime.timedelta(seconds=60)):  # Si le fichier a été modifié pour la dernière fois il y a plus de 60 secondes, le vider\n",
    "            fichier.truncate(0)\n",
    "        elif contenu_existant:  # Sinon si le fichier n'est pas vide ajouter une nouvelle ligne\n",
    "            fichier.write('\\n')  # Cas utile lorsqu'il y a plusieurs vetements sur la meme image\n",
    "        fichier.write(ligne_concatenee)"
   ],
   "metadata": {
    "collapsed": false,
    "ExecuteTime": {
     "end_time": "2024-04-22T12:21:03.371792Z",
     "start_time": "2024-04-22T12:21:03.367454Z"
    }
   },
   "id": "d9564a7fd7b1d28e",
   "execution_count": 10
  },
  {
   "cell_type": "code",
   "outputs": [],
   "source": [
    "def chemins(row):\n",
    "    '''Mettre en forme le chemin du fichier txt depuis le DataFrame des positions des boîtes englobantes (qui possède le nom des images)\n",
    "    row : Series\n",
    "    return : str'''\n",
    "    \n",
    "    chemin_img = 'otherdata/images/' + row.image_name\n",
    "    chemin_label = 'otherdata/labels/' + row.image_name.replace('.jpg', '') + '.txt'\n",
    "    return chemin_img, chemin_label"
   ],
   "metadata": {
    "collapsed": false,
    "ExecuteTime": {
     "end_time": "2024-04-22T12:21:03.376361Z",
     "start_time": "2024-04-22T12:21:03.372910Z"
    }
   },
   "id": "21e1f57611868f04",
   "execution_count": 11
  },
  {
   "cell_type": "code",
   "outputs": [],
   "source": [
    "def copie_images(df, row, chemin_img_arrivee):\n",
    "    '''Copier les images dans le dossier de destination des images et labels à utiliser pour l'entraînement\n",
    "    df : DataFrame des positions des boîtes englobantes\n",
    "    category_df : DataFrame des catégories\n",
    "    data_folder : str'''\n",
    "    \n",
    "    chemin_img_depart = 'data/' + df.iloc[row.Index].image_name\n",
    "    shutil.copy2(chemin_img_depart, chemin_img_arrivee)"
   ],
   "metadata": {
    "collapsed": false,
    "ExecuteTime": {
     "end_time": "2024-04-22T12:23:08.784404Z",
     "start_time": "2024-04-22T12:23:08.780568Z"
    }
   },
   "id": "cda2655984eb68ee",
   "execution_count": 17
  },
  {
   "cell_type": "code",
   "outputs": [],
   "source": [
    "def prepare_data(df, category_df, category):\n",
    "    '''Scinder les labels des boîtes englobantes pour chaque catégorie de vêtement\n",
    "    Il faut un label (fichier txt) par image\n",
    "    df : DataFrame des positions des boîtes englobantes\n",
    "    category_df : DataFrame des catégories\n",
    "    category : str'''\n",
    "\n",
    "    cat = find_category(category_df, category)\n",
    "    df_cat = df[df['image_name'].str.contains(category)]\n",
    "    df_corr = corr_positions(df, cat)\n",
    "    for row in df_corr.itertuples():\n",
    "        chemin_img, chemin_label = chemins(row)\n",
    "        creer_fichier(chemin_label)\n",
    "        creer_fichier(chemin_img)\n",
    "        creer_txt(df_corr, row, chemin_label)\n",
    "        copie_images(df_cat, row, chemin_img)"
   ],
   "metadata": {
    "collapsed": false,
    "ExecuteTime": {
     "end_time": "2024-04-22T12:23:19.866756Z",
     "start_time": "2024-04-22T12:23:19.862469Z"
    }
   },
   "id": "16e9028d14256fc8",
   "execution_count": 18
  },
  {
   "cell_type": "markdown",
   "source": [
    "Préparer tout le dataset pour l'entraînement:"
   ],
   "metadata": {
    "collapsed": false
   },
   "id": "fa2e55708becd34e"
  },
  {
   "cell_type": "code",
   "outputs": [],
   "source": [
    "def prepare_data_toutes_categories(df, category_df):\n",
    "    '''Scinder les labels des boîtes englobantes pour toutes les catégories de vêtements\n",
    "    df : DataFrame des positions des boîtes englobantes'''\n",
    "    \n",
    "    for row in category_df.itertuples():\n",
    "        prepare_data(df, category_df, row.category_name)"
   ],
   "metadata": {
    "collapsed": false,
    "ExecuteTime": {
     "end_time": "2024-04-22T12:21:03.391308Z",
     "start_time": "2024-04-22T12:21:03.387948Z"
    }
   },
   "id": "a8d7f5c009c4d714",
   "execution_count": 14
  },
  {
   "cell_type": "code",
   "outputs": [],
   "source": [
    "#prepare_data_toutes_categories(df, category_df)"
   ],
   "metadata": {
    "collapsed": false,
    "ExecuteTime": {
     "end_time": "2024-04-22T12:21:03.395276Z",
     "start_time": "2024-04-22T12:21:03.392556Z"
    }
   },
   "id": "a1e4d46555c22c06",
   "execution_count": 15
  },
  {
   "cell_type": "markdown",
   "source": [
    "Tests :"
   ],
   "metadata": {
    "collapsed": false
   },
   "id": "a1ebb0a807ee2869"
  },
  {
   "cell_type": "code",
   "outputs": [],
   "source": [
    "prepare_data(blouse_df, category_df, 'Blouse')"
   ],
   "metadata": {
    "collapsed": false,
    "ExecuteTime": {
     "end_time": "2024-04-22T12:26:35.513677Z",
     "start_time": "2024-04-22T12:25:45.032030Z"
    }
   },
   "id": "94c50c26923bbadc",
   "execution_count": 21
  },
  {
   "cell_type": "markdown",
   "source": [
    "Création du fichier de configuration YAML pour YOLOv8 :"
   ],
   "metadata": {
    "collapsed": false
   },
   "id": "c85e352369cdc85f"
  },
  {
   "cell_type": "code",
   "outputs": [],
   "source": [
    "def create_yaml_file(yaml_file, category_df):\n",
    "    with open(yaml_file, 'w') as file:\n",
    "        file.write('path: ' + os.getcwd() + '\\\\otherdata\\n')\n",
    "        file.write('train: images\\n')\n",
    "        file.write('val: images\\n')\n",
    "        file.write('names:\\n')\n",
    "        for row in category_df.itertuples():\n",
    "            file.write('    ' + str(row.category_type) + ': ' + row.category_name + '\\n')"
   ],
   "metadata": {
    "collapsed": false,
    "ExecuteTime": {
     "start_time": "2024-04-22T12:21:05.691604Z"
    }
   },
   "id": "8cd714f113e5a2dd"
  },
  {
   "cell_type": "code",
   "outputs": [],
   "source": [
    "create_yaml_file('config.yaml', category_df)"
   ],
   "metadata": {
    "collapsed": false
   },
   "id": "f287e02a7769fd11"
  },
  {
   "cell_type": "markdown",
   "source": [
    "Vérification des labels :"
   ],
   "metadata": {
    "collapsed": false
   },
   "id": "7b477bd6140d17a5"
  },
  {
   "cell_type": "code",
   "outputs": [],
   "source": [
    "def check_labels(data_folder):\n",
    "    '''Vérifier si les annotations des boîtes englobantes sont correctes\n",
    "    data_folder : str'''\n",
    "\n",
    "    image_folder = os.path.join(data_folder, 'images')\n",
    "    label_folder = os.path.join(data_folder, 'labels')\n",
    "\n",
    "    images = set(os.listdir(image_folder))\n",
    "    labels = set(os.listdir(label_folder))\n",
    "\n",
    "    missing_labels = [img.replace('.jpg', '.txt') for img in images if img.replace('.jpg', '.txt') not in labels]\n",
    "    print(f'Missing labels for images: {missing_labels}')\n",
    "\n",
    "    for label_file in labels:\n",
    "        path = os.path.join(label_folder, label_file)\n",
    "        with open(path, 'r') as file:\n",
    "            lines = file.readlines()\n",
    "            for line in lines:\n",
    "                parts = line.strip().split()\n",
    "                if len(parts) != 5:\n",
    "                    print(f\"Error in {label_file}: {line.strip()}\")\n"
   ],
   "metadata": {
    "collapsed": false
   },
   "id": "990624f7d23680bb"
  },
  {
   "cell_type": "code",
   "outputs": [],
   "source": [
    "check_labels('otherdata')"
   ],
   "metadata": {
    "collapsed": false,
    "ExecuteTime": {
     "start_time": "2024-04-22T12:21:05.693697Z"
    }
   },
   "id": "4787a626d3caa24c"
  }
 ],
 "metadata": {
  "kernelspec": {
   "display_name": "Python 3",
   "language": "python",
   "name": "python3"
  },
  "language_info": {
   "codemirror_mode": {
    "name": "ipython",
    "version": 2
   },
   "file_extension": ".py",
   "mimetype": "text/x-python",
   "name": "python",
   "nbconvert_exporter": "python",
   "pygments_lexer": "ipython2",
   "version": "2.7.6"
  }
 },
 "nbformat": 4,
 "nbformat_minor": 5
}
