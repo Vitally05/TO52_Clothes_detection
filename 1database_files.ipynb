{
 "cells": [
  {
   "cell_type": "code",
   "id": "initial_id",
   "metadata": {
    "collapsed": true,
    "ExecuteTime": {
     "end_time": "2024-05-25T13:28:49.127263Z",
     "start_time": "2024-05-25T13:28:49.114641Z"
    }
   },
   "source": [
    "import pandas as pd\n",
    "import os"
   ],
   "outputs": [],
   "execution_count": 17
  },
  {
   "metadata": {},
   "cell_type": "raw",
   "source": [
    "df = pd.read_csv(\"labels/Anno_coarse/list_bbox.txt\", delim_whitespace=True, header=1)\n",
    "df.head()"
   ],
   "id": "abc548a5cd00626b"
  },
  {
   "metadata": {},
   "cell_type": "raw",
   "source": [
    "file_path = 'labels/Anno_coarse/list_attr_cloth.txt'\n",
    "\n",
    "transformed_lines = []\n",
    "with open(file_path, 'r') as file:\n",
    "    for line in file:\n",
    "        transformed_line = re.sub(r' (?=\\S)(?!\\d)', '_', line.strip())\n",
    "        transformed_line = transformed_line.title()\n",
    "        transformed_lines.append(transformed_line)\n",
    "\n",
    "data = '\\n'.join(transformed_lines)\n",
    "data = StringIO(data)\n",
    "\n",
    "raw_attributes = pd.read_csv(data, sep='\\s+', header=1)\n",
    "column_names = ['attribute_name', 'attribute_type']\n",
    "raw_attributes.columns = column_names\n",
    "raw_attributes.head(10)"
   ],
   "id": "23fe4ce8a8720f3f"
  },
  {
   "metadata": {},
   "cell_type": "raw",
   "source": [
    "count_values = []\n",
    "for row in raw_attributes.itertuples():\n",
    "    attribute_name = getattr(row, 'attribute_name')\n",
    "    attribute_type = getattr(row, 'attribute_type')\n",
    "    count = df['image_name'].str.contains(attribute_name, regex=True).sum()  # Counts the number of True values\n",
    "    count_values.append([attribute_name, attribute_type, count])  # Store texture and its count\n",
    "\n",
    "count_df = pd.DataFrame(count_values, columns=['attribute_name', 'attribute_type', 'count'])\n",
    "count_df"
   ],
   "id": "abba48c4a2250151"
  },
  {
   "metadata": {},
   "cell_type": "raw",
   "source": [
    "selected_rows = []  # A list to hold the rows that meet the condition\n",
    "for row in count_df.itertuples():\n",
    "    if row.count > 1000:\n",
    "        selected_rows.append(row)  # Append the row as a dictionary\n",
    "\n",
    "attribute = pd.DataFrame(selected_rows)\n",
    "attribute.drop(columns=['Index'], inplace=True)\n",
    "attribute"
   ],
   "id": "c5737675edbf9a20"
  },
  {
   "metadata": {},
   "cell_type": "raw",
   "source": [
    "texture = attribute[attribute['attribute_type'] == 1]\n",
    "fabric = attribute[attribute['attribute_type'] == 2]\n",
    "shape = attribute[attribute['attribute_type'] == 3]\n",
    "part = attribute[attribute['attribute_type'] == 4]\n",
    "style = attribute[attribute['attribute_type'] == 5]"
   ],
   "id": "90c6828a545c8b06"
  },
  {
   "metadata": {},
   "cell_type": "raw",
   "source": [
    "texture = texture.reset_index(drop=True) # Reset the index\n",
    "texture = texture.reset_index(drop=False) # Display the index\n",
    "texture = texture.drop(columns=['count','attribute_type'])\n",
    "texture.head()"
   ],
   "id": "5c9e734899f2b9f5"
  },
  {
   "metadata": {},
   "cell_type": "raw",
   "source": [
    "fabric = fabric.reset_index(drop=True) # Reset the index\n",
    "fabric = fabric.reset_index(drop=False) # Display the index\n",
    "fabric = fabric.drop(columns=['count','attribute_type'])\n",
    "fabric.head()"
   ],
   "id": "97023516c7095b1a"
  },
  {
   "metadata": {},
   "cell_type": "raw",
   "source": [
    "shape = shape.reset_index(drop=True) # Reset the index\n",
    "shape = shape.reset_index(drop=False) # Display the index\n",
    "shape = shape.drop(columns=['count','attribute_type'])\n",
    "shape.head()"
   ],
   "id": "de9467dfd6806837"
  },
  {
   "metadata": {},
   "cell_type": "raw",
   "source": [
    "part = part.reset_index(drop=True) # Reset the index\n",
    "part = part.reset_index(drop=False) # Display the index\n",
    "part = part.drop(columns=['count','attribute_type'])\n",
    "part.head()"
   ],
   "id": "4572b2cae0fddfcf"
  },
  {
   "metadata": {},
   "cell_type": "raw",
   "source": [
    "style = style.reset_index(drop=True) # Reset the index\n",
    "style = style.reset_index(drop=False) # Display the index\n",
    "style = style.drop(columns=['count','attribute_type']) \n",
    "style.head()"
   ],
   "id": "d6b856445ae0bbd7"
  },
  {
   "metadata": {},
   "cell_type": "raw",
   "source": [
    "def creer_fichier(chemin_fichier):\n",
    "    '''Créer les dossier et fichiers nécessaires pour le fichier txt ou les images\n",
    "    chemin_fichier : str'''\n",
    "    dossier = os.path.dirname(chemin_fichier)\n",
    "    if not os.path.exists(dossier):\n",
    "        os.makedirs(dossier)"
   ],
   "id": "fd90313d6f6355b6"
  },
  {
   "metadata": {},
   "cell_type": "raw",
   "source": [
    "def creer_csv(content, chemin_fichier, new_column_names=None):\n",
    "    creer_fichier(chemin_fichier)\n",
    "    if new_column_names:\n",
    "        content = content.rename(columns=new_column_names)\n",
    "    content.to_csv(chemin_fichier, index=False)"
   ],
   "id": "81c842f62c46d3b6"
  },
  {
   "metadata": {},
   "cell_type": "raw",
   "source": [
    "path = 'labels/database_csv/'\n",
    "creer_csv(texture, path + 'texture.csv', {'index': 'id_texture', 'attribute_name': 'texture'})\n",
    "creer_csv(fabric, path + 'fabric.csv', {'index': 'id_fabric', 'attribute_name': 'fabric'})\n",
    "creer_csv(shape, path +'shape.csv', {'index': 'id_shape', 'attribute_name': 'shape'})\n",
    "creer_csv(part, path +'part.csv', {'index': 'id_part', 'attribute_name': 'part'})\n",
    "creer_csv(style, path +'style.csv', {'index': 'id_style', 'attribute_name': 'style'})"
   ],
   "id": "357936074453ee49"
  },
  {
   "metadata": {},
   "cell_type": "raw",
   "source": [
    "category = pd.read_csv('labels/Anno_coarse/categories.txt', header=0)\n",
    "category.head()"
   ],
   "id": "8af7fb5188dcc13f"
  },
  {
   "metadata": {},
   "cell_type": "raw",
   "source": [
    "def inverser_colonnes(df, col1, col2):\n",
    "    # Copie de la liste des noms de colonnes pour éviter de modifier l'original\n",
    "    cols = df.columns.tolist()\n",
    "    # Obtenir les indices des colonnes à échanger\n",
    "    idx1, idx2 = cols.index(col1), cols.index(col2)\n",
    "    # Échanger les noms des colonnes\n",
    "    cols[idx1], cols[idx2] = cols[idx2], cols[idx1]\n",
    "    # Réaffecter l'ordre modifié au DataFrame\n",
    "    df = df[cols]\n",
    "    return df"
   ],
   "id": "554167c82ee28e77"
  },
  {
   "metadata": {},
   "cell_type": "raw",
   "source": [
    "category = inverser_colonnes(category, 'category_name', 'category_type')\n",
    "category.head()"
   ],
   "id": "5d6074d46f76bd2c"
  },
  {
   "metadata": {},
   "cell_type": "raw",
   "source": "creer_csv(category, 'labels/database_csv/category.csv', {'category_type': 'id_category', 'category_name': 'category'})",
   "id": "9b8aa68b24a715f0"
  },
  {
   "metadata": {},
   "cell_type": "raw",
   "source": [
    "marque = pd.DataFrame({'id_brand': [0, 1, 2, 3, 4 , 5, 6, 7, 8, 9], 'brand': ['Zara', 'H&M', 'Forever 21', 'Asos', 'Jennifer', 'Promod', 'Uniqlo', 'Pull&Bear', 'ESPRIT', 'Primark']})\n",
    "creer_csv(marque, 'labels/database_csv/brand.csv')"
   ],
   "id": "6516ce6dc4394d84"
  },
  {
   "metadata": {},
   "cell_type": "raw",
   "source": [
    "size = pd.DataFrame({'id_size': [0, 1, 2, 3, 4, 5, 6], 'size': ['XXS', 'XS', 'S', 'M', 'L', 'XL', 'XXL']})\n",
    "creer_csv(size, 'labels/database_csv/size.csv')"
   ],
   "id": "390685df88b2338c"
  },
  {
   "metadata": {},
   "cell_type": "raw",
   "source": "df = pd.read_csv(\"labels/Anno_coarse/list_bbox.txt\", delim_whitespace=True, header=1)",
   "id": "e0ad807fbb1a361d"
  },
  {
   "metadata": {},
   "cell_type": "raw",
   "source": [
    "df = df.drop(columns=['x_1', 'y_1', 'x_2', 'y_2'])\n",
    "df.rename(columns={'image_name': 'absolute_path'}, inplace=True)\n",
    "df.head()"
   ],
   "id": "ebfe918b67aea0ae"
  },
  {
   "metadata": {},
   "cell_type": "raw",
   "source": [
    "for row in df.itertuples():\n",
    "    absolute_path = getattr(row, 'absolute_path')\n",
    "    absolute_path = absolute_path.split('/')[1:-1]\n",
    "    absolute_path = '/'.join(absolute_path)\n",
    "    df.at[row.Index, 'absolute_path'] = absolute_path\n",
    "    image_name = absolute_path.split('/')[1]\n",
    "    df.at[row.Index, 'image_name'] = image_name\n",
    "df.head()"
   ],
   "id": "590fd9b1b503324d"
  },
  {
   "metadata": {},
   "cell_type": "raw",
   "source": [
    "for row in df.itertuples():\n",
    "    attributes = row.image_name.split('_')\n",
    "    df.at[row.Index, 'attributes'] = attributes\n",
    "df.head()"
   ],
   "id": "dd4bef844135eca6"
  },
  {
   "metadata": {},
   "cell_type": "raw",
   "source": [
    "for row in df.itertuples():\n",
    "    for attribute in row.attributes:\n",
    "        if not category[category['category_name'].str.contains(str(attribute), regex=True)].empty :\n",
    "            num = category[category['category_name'].str.contains(str(attribute), regex=True)].index[0]\n",
    "            df.at[row.Index, 'category'] = num\n",
    "        if not texture[texture['attribute_name'].str.contains(str(attribute), regex=True)].empty :\n",
    "            num = texture[texture['attribute_name'].str.contains(str(attribute), regex=True)].index[0]\n",
    "            df.at[row.Index, 'texture'] = num\n",
    "        if not fabric[fabric['attribute_name'].str.contains(str(attribute), regex=True)].empty :\n",
    "            num = fabric[fabric['attribute_name'].str.contains(str(attribute), regex=True)].index[0]\n",
    "            df.at[row.Index, 'fabric'] = num\n",
    "        if not shape[shape['attribute_name'].str.contains(str(attribute), regex=True)].empty :\n",
    "            num = shape[shape['attribute_name'].str.contains(str(attribute), regex=True)].index[0]\n",
    "            df.at[row.Index, 'shape'] = num\n",
    "        if not part[part['attribute_name'].str.contains(str(attribute), regex=True)].empty :\n",
    "            num = part[part['attribute_name'].str.contains(str(attribute), regex=True)].index[0]\n",
    "            df.at[row.Index, 'part'] = num\n",
    "        if not style[style['attribute_name'].str.contains(str(attribute), regex=True)].empty :\n",
    "            num = style[style['attribute_name'].str.contains(str(attribute), regex=True)].index[0]\n",
    "            df.at[row.Index, 'style'] = num\n",
    "df.head(10)\n"
   ],
   "id": "f06f3b979dc1b737"
  },
  {
   "metadata": {},
   "cell_type": "raw",
   "source": [
    "df.drop(columns=['attributes'], inplace=True)\n",
    "df.drop(columns=['image_name'], inplace=True)\n",
    "df['id_clothes'] = range(0, len(df))  # Starts the ID from 1 to the length of DataFrame\n",
    "df.head()"
   ],
   "id": "de55ad868a60022d"
  },
  {
   "metadata": {},
   "cell_type": "raw",
   "source": [
    "cols = df.columns.tolist()\n",
    "# Obtenir les indices des colonnes à échanger\n",
    "idx1, idx2, idx3, idx4, idx5, idx6, idx7 = cols.index('fabric'), cols.index('category'), cols.index('texture'), cols.index('part'), cols.index('style'), cols.index('shape'), cols.index('id_clothes')\n",
    "# Échanger les noms des colonnes\n",
    "cols[idx1], cols[idx2], cols[idx3], cols[idx4], cols[idx5], cols[idx6], cols[idx7] = cols[idx7], cols[idx2], cols[idx3], cols[idx1], cols[idx6], cols[idx4], cols[idx5]\n",
    "# Réaffecter l'ordre modifié au DataFrame\n",
    "df = df[cols]"
   ],
   "id": "6fd2354dd880a757"
  },
  {
   "metadata": {},
   "cell_type": "raw",
   "source": "creer_csv(df, 'labels/database_csv/clothes.csv', {'id_clothes': 'id_clothes', 'category': 'id_category', 'texture': 'id_texture', 'fabric': 'id_fabric', 'shape': 'id_shape', 'part': 'id_part', 'style': 'id_style'})",
   "id": "4eca549beb4f13d5"
  },
  {
   "metadata": {},
   "cell_type": "raw",
   "source": [
    "import random\n",
    "for row in df.itertuples():\n",
    "    brand = random.randint(0, 9)\n",
    "    size = random.randint(0, 6)\n",
    "    df.at[row.Index, 'brand'] = int(brand)\n",
    "    df.at[row.Index, 'size'] = int(size)\n",
    "df.head()"
   ],
   "id": "9189f0cf87094e37"
  },
  {
   "metadata": {},
   "cell_type": "raw",
   "source": [
    "df['category'] = df['category'].astype('int8')\n",
    "df['texture'] = df['texture'].astype('int8')\n",
    "df['fabric'] = df['fabric'].astype('int8')\n",
    "df['shape'] = df['shape'].astype('int8')\n",
    "df['part'] = df['part'].astype('int8')\n",
    "df['style'] = df['style'].astype('int8')\n",
    "df['brand'] = df['brand'].astype('int8')\n",
    "df['size'] = df['size'].astype('int8')\n",
    "df.head()"
   ],
   "id": "a3ae6576ea5738a6"
  },
  {
   "metadata": {},
   "cell_type": "raw",
   "source": "creer_csv(df, 'labels/database_csv/clothes.csv', {'id_clothes': 'id_clothes', 'category': 'id_category', 'texture': 'id_texture', 'fabric': 'id_fabric', 'shape': 'id_shape', 'part': 'id_part', 'style': 'id_style', 'brand': 'id_brand', 'size': 'id_size'})",
   "id": "c5adfcbfa8218f18"
  },
  {
   "cell_type": "code",
   "id": "ac4fbdfd",
   "metadata": {
    "ExecuteTime": {
     "end_time": "2024-05-25T13:28:49.149402Z",
     "start_time": "2024-05-25T13:28:49.146517Z"
    }
   },
   "source": [],
   "outputs": [],
   "execution_count": 17
  },
  {
   "cell_type": "code",
   "id": "3d4ddc9e46e6cda3",
   "metadata": {
    "ExecuteTime": {
     "end_time": "2024-05-25T13:28:49.152575Z",
     "start_time": "2024-05-25T13:28:49.149402Z"
    }
   },
   "source": [
    "def creer_fichier(chemin_fichier):\n",
    "    '''Créer les dossier et fichiers nécessaires pour le fichier txt ou les images\n",
    "    chemin_fichier : str'''\n",
    "    dossier = os.path.dirname(chemin_fichier)\n",
    "    if not os.path.exists(dossier):\n",
    "        os.makedirs(dossier)"
   ],
   "outputs": [],
   "execution_count": 18
  },
  {
   "cell_type": "code",
   "id": "a2c89e32",
   "metadata": {
    "ExecuteTime": {
     "end_time": "2024-05-25T13:28:49.194423Z",
     "start_time": "2024-05-25T13:28:49.178273Z"
    }
   },
   "source": [
    "def creer_csv(content, chemin_fichier, new_column_names=None):\n",
    "    creer_fichier(chemin_fichier)\n",
    "    if new_column_names:\n",
    "        content = content.rename(columns=new_column_names)\n",
    "    content.to_csv(chemin_fichier, index=False)"
   ],
   "outputs": [],
   "execution_count": 19
  },
  {
   "cell_type": "code",
   "id": "978c91e6",
   "metadata": {
    "ExecuteTime": {
     "end_time": "2024-05-25T13:28:49.198306Z",
     "start_time": "2024-05-25T13:28:49.194423Z"
    }
   },
   "source": [
    "def find_category(df, category_name):\n",
    "    '''Trouver la catégorie de vêtement dans le DataFrame\n",
    "    df : DataFrame des catégories\n",
    "    category_name : str\n",
    "    return : int'''\n",
    "    \n",
    "    return df[df['category_name'].str.contains(category_name)].category_type.values[0]"
   ],
   "outputs": [],
   "execution_count": 20
  },
  {
   "cell_type": "code",
   "id": "3ac11221",
   "metadata": {
    "ExecuteTime": {
     "end_time": "2024-05-25T13:28:49.219469Z",
     "start_time": "2024-05-25T13:28:49.209876Z"
    }
   },
   "source": [
    "def inverser_colonnes(df, col1, col2):\n",
    "    # Copie de la liste des noms de colonnes pour éviter de modifier l'original\n",
    "    cols = df.columns.tolist()\n",
    "    # Obtenir les indices des colonnes à échanger\n",
    "    idx1, idx2 = cols.index(col1), cols.index(col2)\n",
    "    # Échanger les noms des colonnes\n",
    "    cols[idx1], cols[idx2] = cols[idx2], cols[idx1]\n",
    "    # Réaffecter l'ordre modifié au DataFrame\n",
    "    df = df[cols]\n",
    "    return df"
   ],
   "outputs": [],
   "execution_count": 21
  },
  {
   "cell_type": "code",
   "id": "8cd15cca",
   "metadata": {
    "ExecuteTime": {
     "end_time": "2024-05-25T13:28:49.850988Z",
     "start_time": "2024-05-25T13:28:49.219469Z"
    }
   },
   "source": [
    "clothes = pd.read_csv('labels/Anno_coarse/list_category_img.txt', delim_whitespace=True, header=1)\n",
    "clothes.drop(columns=['category_label'], inplace=True)\n",
    "clothes.head()"
   ],
   "outputs": [
    {
     "name": "stderr",
     "output_type": "stream",
     "text": [
      "C:\\Users\\elise\\AppData\\Local\\Temp\\ipykernel_35312\\3929316270.py:1: FutureWarning: The 'delim_whitespace' keyword in pd.read_csv is deprecated and will be removed in a future version. Use ``sep='\\s+'`` instead\n",
      "  clothes = pd.read_csv('labels/Anno_coarse/list_category_img.txt', delim_whitespace=True, header=1)\n"
     ]
    },
    {
     "data": {
      "text/plain": [
       "                                        image_name\n",
       "0  img/Sheer_Pleated-Front_Blouse/img_00000001.jpg\n",
       "1  img/Sheer_Pleated-Front_Blouse/img_00000002.jpg\n",
       "2  img/Sheer_Pleated-Front_Blouse/img_00000003.jpg\n",
       "3  img/Sheer_Pleated-Front_Blouse/img_00000004.jpg\n",
       "4  img/Sheer_Pleated-Front_Blouse/img_00000005.jpg"
      ],
      "text/html": [
       "<div>\n",
       "<style scoped>\n",
       "    .dataframe tbody tr th:only-of-type {\n",
       "        vertical-align: middle;\n",
       "    }\n",
       "\n",
       "    .dataframe tbody tr th {\n",
       "        vertical-align: top;\n",
       "    }\n",
       "\n",
       "    .dataframe thead th {\n",
       "        text-align: right;\n",
       "    }\n",
       "</style>\n",
       "<table border=\"1\" class=\"dataframe\">\n",
       "  <thead>\n",
       "    <tr style=\"text-align: right;\">\n",
       "      <th></th>\n",
       "      <th>image_name</th>\n",
       "    </tr>\n",
       "  </thead>\n",
       "  <tbody>\n",
       "    <tr>\n",
       "      <th>0</th>\n",
       "      <td>img/Sheer_Pleated-Front_Blouse/img_00000001.jpg</td>\n",
       "    </tr>\n",
       "    <tr>\n",
       "      <th>1</th>\n",
       "      <td>img/Sheer_Pleated-Front_Blouse/img_00000002.jpg</td>\n",
       "    </tr>\n",
       "    <tr>\n",
       "      <th>2</th>\n",
       "      <td>img/Sheer_Pleated-Front_Blouse/img_00000003.jpg</td>\n",
       "    </tr>\n",
       "    <tr>\n",
       "      <th>3</th>\n",
       "      <td>img/Sheer_Pleated-Front_Blouse/img_00000004.jpg</td>\n",
       "    </tr>\n",
       "    <tr>\n",
       "      <th>4</th>\n",
       "      <td>img/Sheer_Pleated-Front_Blouse/img_00000005.jpg</td>\n",
       "    </tr>\n",
       "  </tbody>\n",
       "</table>\n",
       "</div>"
      ]
     },
     "execution_count": 22,
     "metadata": {},
     "output_type": "execute_result"
    }
   ],
   "execution_count": 22
  },
  {
   "cell_type": "code",
   "id": "9fa69372",
   "metadata": {
    "ExecuteTime": {
     "end_time": "2024-05-25T13:58:17.457609Z",
     "start_time": "2024-05-25T13:58:17.452618Z"
    }
   },
   "source": [
    "category_df = pd.read_csv(\"labels/Anno_coarse/categories.txt\", delimiter=\",\", header=0)\n",
    "creer_csv(category_df, 'labels/database_csv/category.csv', {'category_type': 'id_category', 'category_name': 'category'})"
   ],
   "outputs": [],
   "execution_count": 33
  },
  {
   "cell_type": "code",
   "id": "38ddaacf",
   "metadata": {
    "ExecuteTime": {
     "end_time": "2024-05-25T13:28:49.864551Z",
     "start_time": "2024-05-25T13:28:49.859761Z"
    }
   },
   "source": [
    "marque = pd.DataFrame({'id_brand': [0, 1, 2, 3, 4 , 5, 6, 7, 8, 9], 'brand': ['Zara', 'H&M', 'Forever 21', 'Asos', 'Jennifer', 'Promod', 'Uniqlo', 'Pull&Bear', 'ESPRIT', 'Primark']})\n",
    "creer_csv(marque, 'labels/database_csv/brand.csv')"
   ],
   "outputs": [],
   "execution_count": 24
  },
  {
   "cell_type": "code",
   "id": "f7777237",
   "metadata": {
    "ExecuteTime": {
     "end_time": "2024-05-25T13:28:49.870959Z",
     "start_time": "2024-05-25T13:28:49.864551Z"
    }
   },
   "source": [
    "size = pd.DataFrame({'id_size': [0, 1, 2, 3, 4, 5, 6], 'size': ['XXS', 'XS', 'S', 'M', 'L', 'XL', 'XXL']})\n",
    "creer_csv(size, 'labels/database_csv/size.csv')"
   ],
   "outputs": [],
   "execution_count": 25
  },
  {
   "cell_type": "code",
   "id": "1b7384ce",
   "metadata": {
    "ExecuteTime": {
     "end_time": "2024-05-25T13:29:28.967103Z",
     "start_time": "2024-05-25T13:28:49.870959Z"
    }
   },
   "source": [
    "import random\n",
    "for row in clothes.itertuples():\n",
    "    brand = random.randint(0, 9)\n",
    "    size = random.randint(0, 6)\n",
    "    clothes.at[row.Index, 'brand'] = int(brand)\n",
    "    clothes.at[row.Index, 'size'] = int(size)\n",
    "    category_name = row.image_name.split('/')[1]\n",
    "    category_name = category_name.split('_')[-1]\n",
    "    clothes.at[row.Index, 'category'] = find_category(category_df, category_name)\n",
    "clothes.head()"
   ],
   "outputs": [
    {
     "data": {
      "text/plain": [
       "                                        image_name  brand  size  category\n",
       "0  img/Sheer_Pleated-Front_Blouse/img_00000001.jpg    8.0   2.0       2.0\n",
       "1  img/Sheer_Pleated-Front_Blouse/img_00000002.jpg    9.0   4.0       2.0\n",
       "2  img/Sheer_Pleated-Front_Blouse/img_00000003.jpg    8.0   2.0       2.0\n",
       "3  img/Sheer_Pleated-Front_Blouse/img_00000004.jpg    7.0   0.0       2.0\n",
       "4  img/Sheer_Pleated-Front_Blouse/img_00000005.jpg    1.0   3.0       2.0"
      ],
      "text/html": [
       "<div>\n",
       "<style scoped>\n",
       "    .dataframe tbody tr th:only-of-type {\n",
       "        vertical-align: middle;\n",
       "    }\n",
       "\n",
       "    .dataframe tbody tr th {\n",
       "        vertical-align: top;\n",
       "    }\n",
       "\n",
       "    .dataframe thead th {\n",
       "        text-align: right;\n",
       "    }\n",
       "</style>\n",
       "<table border=\"1\" class=\"dataframe\">\n",
       "  <thead>\n",
       "    <tr style=\"text-align: right;\">\n",
       "      <th></th>\n",
       "      <th>image_name</th>\n",
       "      <th>brand</th>\n",
       "      <th>size</th>\n",
       "      <th>category</th>\n",
       "    </tr>\n",
       "  </thead>\n",
       "  <tbody>\n",
       "    <tr>\n",
       "      <th>0</th>\n",
       "      <td>img/Sheer_Pleated-Front_Blouse/img_00000001.jpg</td>\n",
       "      <td>8.0</td>\n",
       "      <td>2.0</td>\n",
       "      <td>2.0</td>\n",
       "    </tr>\n",
       "    <tr>\n",
       "      <th>1</th>\n",
       "      <td>img/Sheer_Pleated-Front_Blouse/img_00000002.jpg</td>\n",
       "      <td>9.0</td>\n",
       "      <td>4.0</td>\n",
       "      <td>2.0</td>\n",
       "    </tr>\n",
       "    <tr>\n",
       "      <th>2</th>\n",
       "      <td>img/Sheer_Pleated-Front_Blouse/img_00000003.jpg</td>\n",
       "      <td>8.0</td>\n",
       "      <td>2.0</td>\n",
       "      <td>2.0</td>\n",
       "    </tr>\n",
       "    <tr>\n",
       "      <th>3</th>\n",
       "      <td>img/Sheer_Pleated-Front_Blouse/img_00000004.jpg</td>\n",
       "      <td>7.0</td>\n",
       "      <td>0.0</td>\n",
       "      <td>2.0</td>\n",
       "    </tr>\n",
       "    <tr>\n",
       "      <th>4</th>\n",
       "      <td>img/Sheer_Pleated-Front_Blouse/img_00000005.jpg</td>\n",
       "      <td>1.0</td>\n",
       "      <td>3.0</td>\n",
       "      <td>2.0</td>\n",
       "    </tr>\n",
       "  </tbody>\n",
       "</table>\n",
       "</div>"
      ]
     },
     "execution_count": 26,
     "metadata": {},
     "output_type": "execute_result"
    }
   ],
   "execution_count": 26
  },
  {
   "cell_type": "code",
   "id": "af3bcb40",
   "metadata": {
    "ExecuteTime": {
     "end_time": "2024-05-25T13:29:28.973393Z",
     "start_time": "2024-05-25T13:29:28.967103Z"
    }
   },
   "source": [
    "clothes"
   ],
   "outputs": [
    {
     "data": {
      "text/plain": [
       "                                               image_name  brand  size  \\\n",
       "0         img/Sheer_Pleated-Front_Blouse/img_00000001.jpg    8.0   2.0   \n",
       "1         img/Sheer_Pleated-Front_Blouse/img_00000002.jpg    9.0   4.0   \n",
       "2         img/Sheer_Pleated-Front_Blouse/img_00000003.jpg    8.0   2.0   \n",
       "3         img/Sheer_Pleated-Front_Blouse/img_00000004.jpg    7.0   0.0   \n",
       "4         img/Sheer_Pleated-Front_Blouse/img_00000005.jpg    1.0   3.0   \n",
       "...                                                   ...    ...   ...   \n",
       "289217  img/Paisley_Print_Babydoll_Dress/img_00000050.jpg    3.0   5.0   \n",
       "289218  img/Paisley_Print_Babydoll_Dress/img_00000051.jpg    7.0   2.0   \n",
       "289219  img/Paisley_Print_Babydoll_Dress/img_00000052.jpg    3.0   5.0   \n",
       "289220  img/Paisley_Print_Babydoll_Dress/img_00000053.jpg    4.0   2.0   \n",
       "289221  img/Paisley_Print_Babydoll_Dress/img_00000054.jpg    3.0   6.0   \n",
       "\n",
       "        category  \n",
       "0            2.0  \n",
       "1            2.0  \n",
       "2            2.0  \n",
       "3            2.0  \n",
       "4            2.0  \n",
       "...          ...  \n",
       "289217      39.0  \n",
       "289218      39.0  \n",
       "289219      39.0  \n",
       "289220      39.0  \n",
       "289221      39.0  \n",
       "\n",
       "[289222 rows x 4 columns]"
      ],
      "text/html": [
       "<div>\n",
       "<style scoped>\n",
       "    .dataframe tbody tr th:only-of-type {\n",
       "        vertical-align: middle;\n",
       "    }\n",
       "\n",
       "    .dataframe tbody tr th {\n",
       "        vertical-align: top;\n",
       "    }\n",
       "\n",
       "    .dataframe thead th {\n",
       "        text-align: right;\n",
       "    }\n",
       "</style>\n",
       "<table border=\"1\" class=\"dataframe\">\n",
       "  <thead>\n",
       "    <tr style=\"text-align: right;\">\n",
       "      <th></th>\n",
       "      <th>image_name</th>\n",
       "      <th>brand</th>\n",
       "      <th>size</th>\n",
       "      <th>category</th>\n",
       "    </tr>\n",
       "  </thead>\n",
       "  <tbody>\n",
       "    <tr>\n",
       "      <th>0</th>\n",
       "      <td>img/Sheer_Pleated-Front_Blouse/img_00000001.jpg</td>\n",
       "      <td>8.0</td>\n",
       "      <td>2.0</td>\n",
       "      <td>2.0</td>\n",
       "    </tr>\n",
       "    <tr>\n",
       "      <th>1</th>\n",
       "      <td>img/Sheer_Pleated-Front_Blouse/img_00000002.jpg</td>\n",
       "      <td>9.0</td>\n",
       "      <td>4.0</td>\n",
       "      <td>2.0</td>\n",
       "    </tr>\n",
       "    <tr>\n",
       "      <th>2</th>\n",
       "      <td>img/Sheer_Pleated-Front_Blouse/img_00000003.jpg</td>\n",
       "      <td>8.0</td>\n",
       "      <td>2.0</td>\n",
       "      <td>2.0</td>\n",
       "    </tr>\n",
       "    <tr>\n",
       "      <th>3</th>\n",
       "      <td>img/Sheer_Pleated-Front_Blouse/img_00000004.jpg</td>\n",
       "      <td>7.0</td>\n",
       "      <td>0.0</td>\n",
       "      <td>2.0</td>\n",
       "    </tr>\n",
       "    <tr>\n",
       "      <th>4</th>\n",
       "      <td>img/Sheer_Pleated-Front_Blouse/img_00000005.jpg</td>\n",
       "      <td>1.0</td>\n",
       "      <td>3.0</td>\n",
       "      <td>2.0</td>\n",
       "    </tr>\n",
       "    <tr>\n",
       "      <th>...</th>\n",
       "      <td>...</td>\n",
       "      <td>...</td>\n",
       "      <td>...</td>\n",
       "      <td>...</td>\n",
       "    </tr>\n",
       "    <tr>\n",
       "      <th>289217</th>\n",
       "      <td>img/Paisley_Print_Babydoll_Dress/img_00000050.jpg</td>\n",
       "      <td>3.0</td>\n",
       "      <td>5.0</td>\n",
       "      <td>39.0</td>\n",
       "    </tr>\n",
       "    <tr>\n",
       "      <th>289218</th>\n",
       "      <td>img/Paisley_Print_Babydoll_Dress/img_00000051.jpg</td>\n",
       "      <td>7.0</td>\n",
       "      <td>2.0</td>\n",
       "      <td>39.0</td>\n",
       "    </tr>\n",
       "    <tr>\n",
       "      <th>289219</th>\n",
       "      <td>img/Paisley_Print_Babydoll_Dress/img_00000052.jpg</td>\n",
       "      <td>3.0</td>\n",
       "      <td>5.0</td>\n",
       "      <td>39.0</td>\n",
       "    </tr>\n",
       "    <tr>\n",
       "      <th>289220</th>\n",
       "      <td>img/Paisley_Print_Babydoll_Dress/img_00000053.jpg</td>\n",
       "      <td>4.0</td>\n",
       "      <td>2.0</td>\n",
       "      <td>39.0</td>\n",
       "    </tr>\n",
       "    <tr>\n",
       "      <th>289221</th>\n",
       "      <td>img/Paisley_Print_Babydoll_Dress/img_00000054.jpg</td>\n",
       "      <td>3.0</td>\n",
       "      <td>6.0</td>\n",
       "      <td>39.0</td>\n",
       "    </tr>\n",
       "  </tbody>\n",
       "</table>\n",
       "<p>289222 rows × 4 columns</p>\n",
       "</div>"
      ]
     },
     "execution_count": 27,
     "metadata": {},
     "output_type": "execute_result"
    }
   ],
   "execution_count": 27
  },
  {
   "cell_type": "code",
   "id": "ee3bafba",
   "metadata": {
    "ExecuteTime": {
     "end_time": "2024-05-25T13:29:28.977011Z",
     "start_time": "2024-05-25T13:29:28.973393Z"
    }
   },
   "source": "clothes['id_clothes'] = range(0, len(clothes)) ",
   "outputs": [],
   "execution_count": 28
  },
  {
   "cell_type": "code",
   "id": "5d5497d8",
   "metadata": {
    "ExecuteTime": {
     "end_time": "2024-05-25T13:29:28.988454Z",
     "start_time": "2024-05-25T13:29:28.977011Z"
    }
   },
   "source": [
    "clothes = inverser_colonnes(clothes, 'image_name', 'id_clothes')\n",
    "clothes.head()"
   ],
   "outputs": [
    {
     "data": {
      "text/plain": [
       "   id_clothes  brand  size  category  \\\n",
       "0           0    8.0   2.0       2.0   \n",
       "1           1    9.0   4.0       2.0   \n",
       "2           2    8.0   2.0       2.0   \n",
       "3           3    7.0   0.0       2.0   \n",
       "4           4    1.0   3.0       2.0   \n",
       "\n",
       "                                        image_name  \n",
       "0  img/Sheer_Pleated-Front_Blouse/img_00000001.jpg  \n",
       "1  img/Sheer_Pleated-Front_Blouse/img_00000002.jpg  \n",
       "2  img/Sheer_Pleated-Front_Blouse/img_00000003.jpg  \n",
       "3  img/Sheer_Pleated-Front_Blouse/img_00000004.jpg  \n",
       "4  img/Sheer_Pleated-Front_Blouse/img_00000005.jpg  "
      ],
      "text/html": [
       "<div>\n",
       "<style scoped>\n",
       "    .dataframe tbody tr th:only-of-type {\n",
       "        vertical-align: middle;\n",
       "    }\n",
       "\n",
       "    .dataframe tbody tr th {\n",
       "        vertical-align: top;\n",
       "    }\n",
       "\n",
       "    .dataframe thead th {\n",
       "        text-align: right;\n",
       "    }\n",
       "</style>\n",
       "<table border=\"1\" class=\"dataframe\">\n",
       "  <thead>\n",
       "    <tr style=\"text-align: right;\">\n",
       "      <th></th>\n",
       "      <th>id_clothes</th>\n",
       "      <th>brand</th>\n",
       "      <th>size</th>\n",
       "      <th>category</th>\n",
       "      <th>image_name</th>\n",
       "    </tr>\n",
       "  </thead>\n",
       "  <tbody>\n",
       "    <tr>\n",
       "      <th>0</th>\n",
       "      <td>0</td>\n",
       "      <td>8.0</td>\n",
       "      <td>2.0</td>\n",
       "      <td>2.0</td>\n",
       "      <td>img/Sheer_Pleated-Front_Blouse/img_00000001.jpg</td>\n",
       "    </tr>\n",
       "    <tr>\n",
       "      <th>1</th>\n",
       "      <td>1</td>\n",
       "      <td>9.0</td>\n",
       "      <td>4.0</td>\n",
       "      <td>2.0</td>\n",
       "      <td>img/Sheer_Pleated-Front_Blouse/img_00000002.jpg</td>\n",
       "    </tr>\n",
       "    <tr>\n",
       "      <th>2</th>\n",
       "      <td>2</td>\n",
       "      <td>8.0</td>\n",
       "      <td>2.0</td>\n",
       "      <td>2.0</td>\n",
       "      <td>img/Sheer_Pleated-Front_Blouse/img_00000003.jpg</td>\n",
       "    </tr>\n",
       "    <tr>\n",
       "      <th>3</th>\n",
       "      <td>3</td>\n",
       "      <td>7.0</td>\n",
       "      <td>0.0</td>\n",
       "      <td>2.0</td>\n",
       "      <td>img/Sheer_Pleated-Front_Blouse/img_00000004.jpg</td>\n",
       "    </tr>\n",
       "    <tr>\n",
       "      <th>4</th>\n",
       "      <td>4</td>\n",
       "      <td>1.0</td>\n",
       "      <td>3.0</td>\n",
       "      <td>2.0</td>\n",
       "      <td>img/Sheer_Pleated-Front_Blouse/img_00000005.jpg</td>\n",
       "    </tr>\n",
       "  </tbody>\n",
       "</table>\n",
       "</div>"
      ]
     },
     "execution_count": 29,
     "metadata": {},
     "output_type": "execute_result"
    }
   ],
   "execution_count": 29
  },
  {
   "cell_type": "code",
   "id": "0a2a7e3b",
   "metadata": {
    "ExecuteTime": {
     "end_time": "2024-05-25T13:29:28.995377Z",
     "start_time": "2024-05-25T13:29:28.988454Z"
    }
   },
   "source": [
    "clothes[\"category\"] = clothes[\"category\"].astype('int8')\n",
    "clothes[\"brand\"] = clothes[\"brand\"].astype('int8')\n",
    "clothes[\"size\"] = clothes[\"size\"].astype('int8')\n",
    "clothes.head()"
   ],
   "outputs": [
    {
     "data": {
      "text/plain": [
       "   id_clothes  brand  size  category  \\\n",
       "0           0      8     2         2   \n",
       "1           1      9     4         2   \n",
       "2           2      8     2         2   \n",
       "3           3      7     0         2   \n",
       "4           4      1     3         2   \n",
       "\n",
       "                                        image_name  \n",
       "0  img/Sheer_Pleated-Front_Blouse/img_00000001.jpg  \n",
       "1  img/Sheer_Pleated-Front_Blouse/img_00000002.jpg  \n",
       "2  img/Sheer_Pleated-Front_Blouse/img_00000003.jpg  \n",
       "3  img/Sheer_Pleated-Front_Blouse/img_00000004.jpg  \n",
       "4  img/Sheer_Pleated-Front_Blouse/img_00000005.jpg  "
      ],
      "text/html": [
       "<div>\n",
       "<style scoped>\n",
       "    .dataframe tbody tr th:only-of-type {\n",
       "        vertical-align: middle;\n",
       "    }\n",
       "\n",
       "    .dataframe tbody tr th {\n",
       "        vertical-align: top;\n",
       "    }\n",
       "\n",
       "    .dataframe thead th {\n",
       "        text-align: right;\n",
       "    }\n",
       "</style>\n",
       "<table border=\"1\" class=\"dataframe\">\n",
       "  <thead>\n",
       "    <tr style=\"text-align: right;\">\n",
       "      <th></th>\n",
       "      <th>id_clothes</th>\n",
       "      <th>brand</th>\n",
       "      <th>size</th>\n",
       "      <th>category</th>\n",
       "      <th>image_name</th>\n",
       "    </tr>\n",
       "  </thead>\n",
       "  <tbody>\n",
       "    <tr>\n",
       "      <th>0</th>\n",
       "      <td>0</td>\n",
       "      <td>8</td>\n",
       "      <td>2</td>\n",
       "      <td>2</td>\n",
       "      <td>img/Sheer_Pleated-Front_Blouse/img_00000001.jpg</td>\n",
       "    </tr>\n",
       "    <tr>\n",
       "      <th>1</th>\n",
       "      <td>1</td>\n",
       "      <td>9</td>\n",
       "      <td>4</td>\n",
       "      <td>2</td>\n",
       "      <td>img/Sheer_Pleated-Front_Blouse/img_00000002.jpg</td>\n",
       "    </tr>\n",
       "    <tr>\n",
       "      <th>2</th>\n",
       "      <td>2</td>\n",
       "      <td>8</td>\n",
       "      <td>2</td>\n",
       "      <td>2</td>\n",
       "      <td>img/Sheer_Pleated-Front_Blouse/img_00000003.jpg</td>\n",
       "    </tr>\n",
       "    <tr>\n",
       "      <th>3</th>\n",
       "      <td>3</td>\n",
       "      <td>7</td>\n",
       "      <td>0</td>\n",
       "      <td>2</td>\n",
       "      <td>img/Sheer_Pleated-Front_Blouse/img_00000004.jpg</td>\n",
       "    </tr>\n",
       "    <tr>\n",
       "      <th>4</th>\n",
       "      <td>4</td>\n",
       "      <td>1</td>\n",
       "      <td>3</td>\n",
       "      <td>2</td>\n",
       "      <td>img/Sheer_Pleated-Front_Blouse/img_00000005.jpg</td>\n",
       "    </tr>\n",
       "  </tbody>\n",
       "</table>\n",
       "</div>"
      ]
     },
     "execution_count": 30,
     "metadata": {},
     "output_type": "execute_result"
    }
   ],
   "execution_count": 30
  },
  {
   "cell_type": "code",
   "id": "565c10ab",
   "metadata": {
    "ExecuteTime": {
     "end_time": "2024-05-25T13:29:29.276982Z",
     "start_time": "2024-05-25T13:29:28.995377Z"
    }
   },
   "source": "creer_csv(clothes, 'labels/database_csv/clothes.csv', {'id_clothes': 'id_clothes', 'category': 'id_category', 'brand': 'id_brand', 'size': 'id_size', 'image_name': 'absolute_path'})",
   "outputs": [],
   "execution_count": 31
  },
  {
   "metadata": {},
   "cell_type": "code",
   "source": "",
   "id": "61b562a11be2d473",
   "outputs": [],
   "execution_count": null
  }
 ],
 "metadata": {
  "kernelspec": {
   "display_name": "Python 3",
   "language": "python",
   "name": "python3"
  },
  "language_info": {
   "codemirror_mode": {
    "name": "ipython",
    "version": 3
   },
   "file_extension": ".py",
   "mimetype": "text/x-python",
   "name": "python",
   "nbconvert_exporter": "python",
   "pygments_lexer": "ipython3",
   "version": "3.9.6"
  }
 },
 "nbformat": 4,
 "nbformat_minor": 5
}
